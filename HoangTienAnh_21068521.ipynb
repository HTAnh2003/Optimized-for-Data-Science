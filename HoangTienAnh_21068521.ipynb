{
 "cells": [
  {
   "cell_type": "markdown",
   "metadata": {
    "id": "GsccfSDERjBo"
   },
   "source": [
    "# ĐỀ THI GIỮA KÌ \n",
    "## Môn: Tối ưu hoá cho Khoa học dữ liệu\n",
    "## Ngày: 28/10/2023\n",
    "## Lớp: DHKHDL17A. Thời gian: 90 phút"
   ]
  },
  {
   "cell_type": "markdown",
   "metadata": {
    "id": "a_Nvp8jjSMsk"
   },
   "source": [
    "### Câu 1 (3 điểm)"
   ]
  },
  {
   "cell_type": "markdown",
   "metadata": {
    "id": "gxZCV9vTRtMh"
   },
   "source": [
    "Một cơ sở sản xuất đồ gỗ dự định sản xuất ba loại sản phẩm là bàn,\n",
    "ghế và tủ. Định mức sử dụng lao động, chi phí sản xuất và giá bán mỗi sản phẩm mỗi loại ước tính trong bảng sau:\n",
    "\n",
    "| Các yếu tố   |  Bàn |  Ghế | Tủ |\n",
    "|---|---|---|---|\n",
    "| Lao động (ngày công)   |  2 | 1  | 3  |\n",
    "| Chi phí sản xuất (ngàn đồng)   | 100 | 40  | 250  |\n",
    "| Giá bán (ngàn đồng)   | 260  | 120  |  600 |\n",
    "\n",
    "Bài toán đặt ra là xác định số sản phẩm mỗi loại cần phải sản xuất sao cho không bị động trong sản xuất và tổng doanh thu đạt được cao nhất, biết rằng cơ sở có số lao động tương đương với 500 ngày công, số tiền dành cho chi phí sản xuất là 40 triệu đồng và số bàn, ghế phải theo tỉ lệ 1/6.\n",
    "\n",
    "1.  Hãy lập mô hình tối ưu của bài toán trên theo dạng dưới đây bằng cách chỉ ra $f_0, A, b$ và $h$. \n",
    "\\begin{align}\n",
    "\\text{minimize}\\quad & f_0(x),\\\\\n",
    "\\text{subject to}\\quad & Ax\\leq b,\\\\\n",
    "& h(x)=0.\n",
    "\\end{align}\n",
    "\n",
    "\n",
    "2.  Sử dụng `scipy.optimize.linprog` để giải bài toán trên.\n",
    "\n",
    "\n",
    "3.  Sử dụng `cvxpy` để giải bài toán trên.\n",
    "\n",
    "*Lưu ý: Chấp nhận số lượng bàn ghế là số thực.*"
   ]
  },
  {
   "cell_type": "markdown",
   "metadata": {},
   "source": [
    "Gọi x , y , z lần lượt là số sản phẩm bàn,ghế, tủ  \n",
    "Mục tiêu : $$\\text{maximize } f(x,y,z) = 260x + 120y + 600z \\rightarrow - \\text{minimize} f(x,y,z) = -260x - 120y - 600z$$ $$ \n",
    "  \n",
    "\n",
    "Các ràng buộc là :\n",
    "- Lao động : $$ 2x + y + 3z \\leq 500$$\n",
    "- Số tiền : $$ 100x + 40y + 250z \\leq 40000 $$\n",
    "- số bàn, ghế phải theo tỉ lệ 1/6.: $$ 6x = y $$\n",
    "Ngoài ra có thêm các ràng buộc là : $$ x,y,z \\geq 0 $$\n",
    "\n",
    "\n",
    "Vậy : $ A = \\begin{bmatrix}\n",
    "2 & 1  & 3 \\\\ \n",
    "100 & 40  & 250 \\\\ \n",
    "\\end{bmatrix}$,\n",
    "$ b = \\begin{bmatrix}\n",
    "500 \\\\\n",
    "40000 \\\\\n",
    "\\end{bmatrix}$ , $f_0 =  [-260,-120,-600] , h = [6,-1,0]$"
   ]
  },
  {
   "cell_type": "code",
   "execution_count": null,
   "metadata": {},
   "outputs": [
    {
     "name": "stderr",
     "output_type": "stream",
     "text": [
      "C:\\Users\\Admin\\AppData\\Local\\Temp\\ipykernel_21096\\1270279452.py:6: DeprecationWarning: `method='revised simplex'` is deprecated and will be removed in SciPy 1.11.0. Please use one of the HiGHS solvers (e.g. `method='highs'`) in new code.\n",
      "  opt = linprog(c=c, A_ub=A, b_ub=b,A_eq=[[6,-1,0]],b_eq=[0],\n"
     ]
    },
    {
     "data": {
      "text/plain": [
       "     con: array([3.55271368e-15])\n",
       "     fun: 96836.73469387754\n",
       " message: 'Optimization terminated successfully.'\n",
       "     nit: 3\n",
       "   slack: array([5.68434189e-14, 0.00000000e+00])\n",
       "  status: 0\n",
       " success: True\n",
       "       x: array([  5.10204082,  30.6122449 , 153.06122449])"
      ]
     },
     "execution_count": 3,
     "metadata": {},
     "output_type": "execute_result"
    }
   ],
   "source": [
    "from scipy.optimize import linprog\n",
    "c = np.array([-260,-120,-600])\n",
    "A = np.array([[2,1,3], [100,40,250]])\n",
    "b = np.array([500,40000])\n",
    "\n",
    "opt = linprog(c=c, A_ub=A, b_ub=b,A_eq=[[6,-1,0]],b_eq=[0],\n",
    "               method=\"revised simplex\")\n",
    "opt.fun = -opt.fun\n",
    "opt"
   ]
  },
  {
   "cell_type": "code",
   "execution_count": null,
   "metadata": {},
   "outputs": [
    {
     "name": "stdout",
     "output_type": "stream",
     "text": [
      "96836.7346491086\n",
      "[  5.10204062  30.61224372 153.06122473]\n"
     ]
    }
   ],
   "source": [
    "import cvxpy as cp\n",
    "import numpy as np\n",
    "c = np.array([260,120,600])\n",
    "A = np.array([[2,1,3], [100,40,250]])\n",
    "b = np.array([500,40000])\n",
    "# A_eq = np.array([[6,-1,0]])\n",
    "# b_eq = np.array([0])\n",
    "x = cp.Variable(3)\n",
    "constraint = [A@x <= b, x >=0 , 6*x[0]==x[1]]\n",
    "prob = cp.Problem(cp.Maximize(c.T@x), constraint)\n",
    "solution = prob.solve()\n",
    "print(solution)\n",
    "print(x.value)"
   ]
  },
  {
   "cell_type": "markdown",
   "metadata": {
    "id": "dLqKbo8CeQy1"
   },
   "source": [
    "### Câu 2 (4 điểm)"
   ]
  },
  {
   "cell_type": "markdown",
   "metadata": {
    "id": "W00lHNXQfg15"
   },
   "source": [
    "1. Cho một hàm số mục tiêu $f(x)=x^2+\\sin \\left(\\dfrac{x}{2}\\right)+2023x.$\n",
    "Hãy tính đạo hàm của hàm số này.\n",
    "\n",
    "\n",
    "2. Sử dụng thuật toán Gradient Descent, hãy tìm giá trị của $x$ để tối ưu hóa hàm số $f(x)=x^2+\\sin \\left(\\dfrac{x}{2}\\right)+2023x,$ với giá trị $x$ ban đầu là $x^{(0)}=2024$, sử dụng learning rate là $0.9$ và thực hiện tối đa $100$ vòng lặp. In ra giá trị của $x$ và $f(x)$ tương ứng sau mỗi vòng lặp.\n",
    "\n",
    "\n",
    "3. Bằng cách thay đổi giá trị learning rate trong thuật toán trên, hãy giải thích sự quan trọng của việc điều chỉnh tham số learning rate trong thuật toán Gradient Descent và cách lựa chọn giá trị tối ưu của nó.\n",
    "\n",
    "\n",
    "4. Hãy trình bày một ví dụ cụ thể về một vấn đề thực tế trong học máy hoặc khoa học dữ liệu mà Gradient Descent có thể được sử dụng để giải quyết.\n",
    "\n"
   ]
  },
  {
   "cell_type": "code",
   "execution_count": 31,
   "metadata": {},
   "outputs": [],
   "source": [
    "import numpy as np"
   ]
  },
  {
   "cell_type": "code",
   "execution_count": 44,
   "metadata": {},
   "outputs": [
    {
     "name": "stdout",
     "output_type": "stream",
     "text": [
      "gradien_fx = (2*x1 , 2*x2)\n",
      "Hessian matrix: \n",
      "\t\t[[2 0]]\n",
      "\t\t[[0 2]]\n"
     ]
    }
   ],
   "source": [
    "from sympy import symbols, diff\n",
    "import numpy as np\n",
    "\n",
    "# Định nghĩa các biến ký hiệu\n",
    "x1, x2 = symbols('x1 x2')\n",
    "\n",
    "# Định nghĩa hàm số\n",
    "f = x1**2 + x2**2\n",
    "\n",
    "# Tính đạo hàm của hàm số f đối với x1\n",
    "df_dx1 = diff(f, x1)\n",
    "\n",
    "# Tính đạo hàm của hàm số f đối với x2\n",
    "df_dx2 = diff(f, x2)\n",
    "\n",
    "# In kết quả\n",
    "print(f\"gradien_fx = ({df_dx1} , {df_dx2})\")\n",
    "hessian_fx = np.matrix([[diff(diff(f, x1), x1), diff(diff(f, x1), x2)],\n",
    "                         [diff(diff(f, x2), x1), diff(diff(f, x2), x2)]])\n",
    "print(\"Hessian matrix: \", *hessian_fx , sep='\\n\\t\\t')"
   ]
  },
  {
   "cell_type": "code",
   "execution_count": 46,
   "metadata": {},
   "outputs": [
    {
     "data": {
      "text/markdown": [
       "Đạo hàm : $\\left[\\begin{matrix}1.0 x_{1} + 1\\end{matrix}\\right]$"
      ],
      "text/plain": [
       "<IPython.core.display.Markdown object>"
      ]
     },
     "metadata": {},
     "output_type": "display_data"
    },
    {
     "data": {
      "text/markdown": [
       "Đạo hàm : $\\left[\\begin{matrix}3.0 x_{2} - 2\\end{matrix}\\right]$"
      ],
      "text/plain": [
       "<IPython.core.display.Markdown object>"
      ]
     },
     "metadata": {},
     "output_type": "display_data"
    }
   ],
   "source": [
    "from sympy import symbols, diff, Matrix, solve, latex\n",
    "from IPython.display import display, Markdown\n",
    "# Khai báo các biến\n",
    "x1, x2 = symbols('x1 x2')\n",
    "\n",
    "# Ma trận A và vector b\n",
    "A = Matrix([[1, 0], [0, 3]])\n",
    "b = Matrix([-1, 2])\n",
    "\n",
    "# Hàm số f(x) = 1/2 * x^T * A * x - b^T * x\n",
    "f = 1/2 * Matrix([x1, x2]).T * A * Matrix([x1, x2]) - b.T * Matrix([x1, x2])\n",
    "\n",
    "# Tính đạo hàm của f theo từng biến\n",
    "df_x1 = diff(f, x1)\n",
    "df_x2 = diff(f, x2)\n",
    "\n",
    "display(Markdown(f\"Đạo hàm : ${latex(df_x1)}$\"))\n",
    "display(Markdown(f\"Đạo hàm : ${latex(df_x2)}$\"))\n",
    "\n"
   ]
  },
  {
   "cell_type": "code",
   "execution_count": 47,
   "metadata": {},
   "outputs": [
    {
     "data": {
      "text/plain": [
       "'\\\\left[\\\\begin{matrix}1.0 x_{1} + 1\\\\end{matrix}\\\\right]'"
      ]
     },
     "execution_count": 47,
     "metadata": {},
     "output_type": "execute_result"
    }
   ],
   "source": [
    "latex(df_x1)"
   ]
  },
  {
   "cell_type": "markdown",
   "metadata": {},
   "source": []
  },
  {
   "cell_type": "markdown",
   "metadata": {},
   "source": [
    "Đạo hàm của $x^{2} + \\sin{\\left( \\frac{x}{2}\\right) + 2023 x   }$ là : $\\displaystyle 2 x + \\frac{\\cos{\\left(\\frac{x}{2} \\right)}}{2} + 2023$\n"
   ]
  },
  {
   "cell_type": "markdown",
   "metadata": {},
   "source": [
    "\n",
    "Vì \n",
    "\n",
    "$$\\begin{align*}\n",
    "(x^2)^{'} & = 2 \\times x  \\\\\n",
    "\\sin \\left(\\frac{x}{2}\\right)^{'}  & = \\frac{\\cos{\\left(\\frac{x}{2} \\right)}}{2} \\\\\n",
    "(2023x)^{'} & = 2023 \n",
    "\\end{align*}$$"
   ]
  },
  {
   "cell_type": "code",
   "execution_count": 21,
   "metadata": {},
   "outputs": [
    {
     "name": "stdout",
     "output_type": "stream",
     "text": [
      "Lần lặp thứ 0 : x = -3440.31321113998 , f(x) = 4876002.355559468\n",
      "Lần lặp thứ 1 : x = 931.4901692736894 , f(x) = 2752079.257805251\n",
      "Lần lặp thứ 2 : x = -2566.2090665245314 , f(x) = 1393987.059267939\n",
      "Lần lặp thứ 3 : x = 232.162007539132 , f(x) = 523563.096265053\n",
      "Lần lặp thứ 4 : x = -2005.9852059053846 , f(x) = -34130.69099537283\n",
      "Lần lặp thứ 5 : x = -215.60633475570125 , f(x) = -389686.3591102944\n",
      "Lần lặp thứ 6 : x = -1648.4622122708645 , f(x) = -617412.2961790441\n",
      "Lần lặp thứ 7 : x = -502.12066657322 , f(x) = -763664.6807625607\n",
      "Lần lặp thứ 8 : x = -1419.437512399157 , f(x) = -856718.9584847123\n",
      "Lần lặp thứ 9 : x = -685.5823175434986 , f(x) = -916909.5642730244\n",
      "Lần lặp thứ 10 : x = -1271.812606777561 , f(x) = -955370.5615278275\n",
      "Lần lặp thứ 11 : x = -803.368298704932 , f(x) = -979813.0192386736\n",
      "Lần lặp thứ 12 : x = -1178.41255479367 , f(x) = -995271.4614540564\n",
      "Lần lặp thứ 13 : x = -878.040607323064 , f(x) = -1005320.1212940649\n",
      "Lần lặp thứ 14 : x = -1118.580169839656 , f(x) = -1011666.1737115162\n",
      "Lần lặp thứ 15 : x = -926.2841780703264 , f(x) = -1015869.5430308301\n",
      "Lần lặp thứ 16 : x = -1079.5644559419975 , f(x) = -1018498.9387677168\n",
      "Lần lặp thứ 17 : x = -957.4268752629223 , f(x) = -1020209.2760526179\n",
      "Lần lặp thứ 18 : x = -1054.925180804365 , f(x) = -1021246.184386634\n",
      "Lần lặp thứ 19 : x = -977.1863017178842 , f(x) = -1021953.8229584643\n",
      "Lần lặp thứ 20 : x = -1038.984898317487 , f(x) = -1022375.9260968424\n",
      "Lần lặp thứ 21 : x = -989.3199466041582 , f(x) = -1022639.3051370879\n",
      "Lần lặp thứ 22 : x = -1029.1808608304812 , f(x) = -1022819.0473977497\n",
      "Lần lặp thứ 23 : x = -997.7187208550102 , f(x) = -1022942.9346090235\n",
      "Lần lặp thứ 24 : x = -1022.1678426275174 , f(x) = -1023019.286263373\n",
      "Lần lặp thứ 25 : x = -1002.7209567757886 , f(x) = -1023054.2163696628\n",
      "Lần lặp thứ 26 : x = -1018.6460586155096 , f(x) = -1023081.5594234045\n",
      "Lần lặp thứ 27 : x = -1006.200209119156 , f(x) = -1023104.5929272005\n",
      "Lần lặp thứ 28 : x = -1016.1459532533554 , f(x) = -1023109.9040015339\n",
      "Lần lặp thứ 29 : x = -1008.075114059658 , f(x) = -1023121.502524345\n",
      "Lần lặp thứ 30 : x = -1014.3240395173099 , f(x) = -1023123.2957792892\n",
      "Lần lặp thứ 31 : x = -1009.1490777837269 , f(x) = -1023127.6629079144\n",
      "Lần lặp thứ 32 : x = -1013.2268912344041 , f(x) = -1023128.5387313559\n",
      "Lần lặp thứ 33 : x = -1009.8105111197456 , f(x) = -1023130.1734297143\n",
      "Lần lặp thứ 34 : x = -1012.5687620980149 , f(x) = -1023130.6389192517\n",
      "Lần lặp thứ 35 : x = -1010.2475101332634 , f(x) = -1023131.3043395774\n",
      "Lần lặp thứ 36 : x = -1012.150017316939 , f(x) = -1023131.5524758262\n",
      "Lần lặp thứ 37 : x = -1010.5473364585363 , f(x) = -1023131.841696068\n",
      "Lần lặp thứ 38 : x = -1011.8722283423956 , f(x) = -1023131.9722030445\n",
      "Lần lặp thứ 39 : x = -1010.7566011179829 , f(x) = -1023132.1033981845\n",
      "Lần lặp thứ 40 : x = -1011.6834842348153 , f(x) = -1023132.1710241633\n",
      "Lần lặp thứ 41 : x = -1010.9036747607828 , f(x) = -1023132.2321974612\n",
      "Lần lặp thứ 42 : x = -1011.5535123327104 , f(x) = -1023132.2667962252\n",
      "Lần lặp thứ 43 : x = -1011.0072771064323 , f(x) = -1023132.2958379161\n",
      "Lần lặp thứ 44 : x = -1011.4633277908058 , f(x) = -1023132.3133632393\n",
      "Lần lặp thứ 45 : x = -1011.0802808614211 , f(x) = -1023132.3273165574\n",
      "Lần lặp thứ 46 : x = -1011.4004721125096 , f(x) = -1023132.3361271474\n",
      "Lần lặp thứ 47 : x = -1011.1317021399092 , f(x) = -1023132.3428854223\n",
      "Lần lặp thứ 48 : x = -1011.356546562623 , f(x) = -1023132.3472904076\n",
      "Lần lặp thứ 49 : x = -1011.1678996468509 , f(x) = -1023132.3505818162\n",
      "Lần lặp thứ 50 : x = -1011.3257991700891 , f(x) = -1023132.3527753649\n",
      "Lần lặp thứ 51 : x = -1011.1933657749264 , f(x) = -1023132.3543844117\n",
      "Lần lặp thứ 52 : x = -1011.304253685315 , f(x) = -1023132.3554736058\n",
      "Lần lặp thứ 53 : x = -1011.2112733659412 , f(x) = -1023132.3562622666\n",
      "Lần lặp thứ 54 : x = -1011.2891458718407 , f(x) = -1023132.3568019966\n",
      "Lần lặp thứ 55 : x = -1011.223861097511 , f(x) = -1023132.3571892543\n",
      "Lần lặp thứ 56 : x = -1011.2785473768732 , f(x) = -1023132.3574563205\n",
      "Lần lặp thứ 57 : x = -1011.2327068448959 , f(x) = -1023132.3576467169\n",
      "Lần lặp thứ 58 : x = -1011.2711100036126 , f(x) = -1023132.3577787301\n",
      "Lần lặp thứ 59 : x = -1011.2389217004651 , f(x) = -1023132.3578724217\n",
      "Lần lặp thứ 60 : x = -1011.2658898246146 , f(x) = -1023132.3579376299\n",
      "Lần lặp thứ 61 : x = -1011.2432874818517 , f(x) = -1023132.3579837629\n",
      "Lần lặp thứ 62 : x = -1011.2622253363916 , f(x) = -1023132.3580159559\n",
      "Lần lặp thứ 63 : x = -1011.24635400266 , f(x) = -1023132.3580386812\n",
      "Lần lặp thứ 64 : x = -1011.259652665685 , f(x) = -1023132.3580545695\n",
      "Lần lặp thứ 65 : x = -1011.248507757929 , f(x) = -1023132.3580657674\n",
      "Lần lặp thứ 66 : x = -1011.2578463864658 , f(x) = -1023132.3580736065\n",
      "Lần lặp thứ 67 : x = -1011.2500203542262 , f(x) = -1023132.3580791258\n",
      "Lần lặp thứ 68 : x = -1011.2565781321813 , f(x) = -1023132.3580829928\n",
      "Lần lặp thứ 69 : x = -1011.2510826193268 , f(x) = -1023132.3580857135\n",
      "Lần lặp thứ 70 : x = -1011.2556876150213 , f(x) = -1023132.3580876207\n",
      "Lần lặp thứ 71 : x = -1011.2518286057776 , f(x) = -1023132.3580889622\n",
      "Lần lặp thứ 72 : x = -1011.2550623150767 , f(x) = -1023132.3580899029\n",
      "Lần lặp thứ 73 : x = -1011.2523524722607 , f(x) = -1023132.3580905639\n",
      "Lần lặp thứ 74 : x = -1011.2546232371644 , f(x) = -1023132.3580910279\n",
      "Lần lặp thứ 75 : x = -1011.2527203507609 , f(x) = -1023132.358091354\n",
      "Lần lặp thứ 76 : x = -1011.2543149185337 , f(x) = -1023132.3580915827\n",
      "Lần lặp thứ 77 : x = -1011.2529786862464 , f(x) = -1023132.3580917437\n",
      "Lần lặp thứ 78 : x = -1011.2540984167708 , f(x) = -1023132.3580918564\n",
      "Lần lặp thứ 79 : x = -1011.2531600960765 , f(x) = -1023132.3580919355\n",
      "Giá trị x cuối cùng sau Gradient Descent: -1011.2540984167708\n",
      "Giá trị f(x) tương ứng: -1023132.3580918564\n"
     ]
    }
   ],
   "source": [
    "import numpy as np\n",
    "\n",
    "# Hàm số mục tiêu\n",
    "def objective_function(x):\n",
    "    return x**2 + np.sin(x/2) + 2023*x\n",
    "\n",
    "# Đạo hàm của hàm số mục tiêu\n",
    "def gradient(x):\n",
    "    return 2*x + 1/2*np.cos(x/2) + 2023\n",
    "\n",
    "def gradient_descent(lr, max_iterations, x0):\n",
    "    xt = x0\n",
    "    for i in range(max_iterations):\n",
    "        x_new = xt - lr*gradient(xt)\n",
    "        print(f\"Lần lặp thứ {i} : x = {x_new} , f(x) = {objective_function(x_new)}\")\n",
    "        if abs(gradient(x_new)) < 1e-3:\n",
    "            break\n",
    "        xt = x_new\n",
    "    return xt\n",
    "\n",
    "learning_rate = 0.9\n",
    "max_iterations = 100\n",
    "initial_x = 2024\n",
    "\n",
    "final_x = gradient_descent(learning_rate, max_iterations, initial_x)\n",
    "print(\"Giá trị x cuối cùng sau Gradient Descent:\", final_x)\n",
    "print(\"Giá trị f(x) tương ứng:\", objective_function(final_x))"
   ]
  },
  {
   "cell_type": "markdown",
   "metadata": {},
   "source": [
    "3. Bằng cách thay đổi giá trị learning rate trong thuật toán trên, hãy giải thích sự quan trọng của việc điều chỉnh tham số learning rate trong thuật toán Gradient Descent và cách lựa chọn giá trị tối ưu của nó.\n"
   ]
  },
  {
   "cell_type": "markdown",
   "metadata": {},
   "source": [
    "Chọn tham số learning rate khác có thể ảnh hưởng kết quả bài toán khác : \n",
    "- Nếu **learing rate quá lớn** : Khi di chuyển ngược chiều đạo hàm mà khiến giá trị $f(x)$ lớn hơn ,đó là khi ta đã vượt dốc, chẳng hạn như khi đã đến rất gần điểm cực trị $(x^*, y^*)$ nhưng _hệ số học tập_ quá lớn làm cho khoảng thay đổi ở bước tiếp theo cũng lớn theo và là nguyên nhân khiến nghiệm cập nhật vượt quá điểm cực trị. Trường hợp này gọi là nhảy dốc (_Step Over_) (nó sẽ cứ nhảy qua điểm cực trị luôn ). \n",
    "Để hạn chế hiện tượng _nhảy dốc_ thì ta cần lựa chọn lr rất nhỏ từ $0.001$ tới $0.005$ và áp dụng những phương pháp tối ưu (_optimizer_) khác nhau để kiểm soát quá trình huấn luyện. Một số phương pháp tối ưu phổ biến là `Adam, Ada, RMProp, ...` \n",
    "- Việc chọn **learning rate quá nhỏ** cũng có thể khiến nó không thể hội tụ, , vì nó chạy quá lâu nhưng vẫn không thể gần với cực trị\n",
    "\n",
    "Ta có thể chọn $lr$ phù hợp bằng sử dụng extract line search hoặc backtracking line search hoặc \n"
   ]
  },
  {
   "cell_type": "code",
   "execution_count": 23,
   "metadata": {},
   "outputs": [
    {
     "name": "stdout",
     "output_type": "stream",
     "text": [
      "Lần lặp thứ 0 : x = 1963.2854087651112 , f(x) = 7826216.972694387\n",
      "Lần lặp thứ 1 : x = 1903.7891765546399 , f(x) = 7475778.740922306\n",
      "Lần lặp thứ 2 : x = 1845.488392864117 , f(x) = 7139249.653651257\n",
      "Lần lặp thứ 3 : x = 1788.3454548603913 , f(x) = 6816003.246156812\n",
      "Lần lặp thứ 4 : x = 1732.3504449361571 , f(x) = 6505582.228152903\n",
      "Lần lặp thứ 5 : x = 1677.4703450540014 , f(x) = 6207429.336588502\n",
      "Lần lặp thứ 6 : x = 1623.6959258848372 , f(x) = 5921126.2857809\n",
      "Lần lặp thứ 7 : x = 1570.9907522470044 , f(x) = 5646126.332500981\n",
      "Lần lặp thứ 8 : x = 1519.3359608092494 , f(x) = 5381997.847996051\n",
      "Lần lặp thứ 9 : x = 1468.7151077060582 , f(x) = 5128334.030686511\n",
      "Lần lặp thứ 10 : x = 1419.1072338914196 , f(x) = 4884718.843793852\n",
      "Lần lặp thứ 11 : x = 1370.490579011186 , f(x) = 4650747.23764504\n",
      "Lần lặp thứ 12 : x = 1322.8461205758538 , f(x) = 4426040.55371635\n",
      "Lần lặp thứ 13 : x = 1276.1597858363423 , f(x) = 4210254.715467851\n",
      "Lần lặp thứ 14 : x = 1230.4113095609935 , f(x) = 4003033.550232743\n",
      "Lần lặp thứ 15 : x = 1185.568811640096 , f(x) = 3803979.9416835173\n",
      "Lần lặp thứ 16 : x = 1141.630234598708 , f(x) = 3612836.740976286\n",
      "Lần lặp thứ 17 : x = 1098.5647408249072 , f(x) = 3429241.4366863524\n",
      "Lần lặp thứ 18 : x = 1056.3678426558542 , f(x) = 3252945.5507491566\n",
      "Lần lặp thứ 19 : x = 1015.0058734322397 , f(x) = 3083592.814251623\n",
      "Lần lặp thứ 20 : x = 974.4750794293084 , f(x) = 2920964.479512008\n",
      "Lần lặp thứ 21 : x = 934.7603680890355 , f(x) = 2764797.827611818\n",
      "Lần lặp thứ 22 : x = 895.8389292310327 , f(x) = 2614810.511698109\n",
      "Lần lặp thứ 23 : x = 857.6933513532575 , f(x) = 2470752.5345573984\n",
      "Lần lặp thứ 24 : x = 820.3095807125297 , f(x) = 2332395.074375535\n",
      "Lần lặp thứ 25 : x = 783.6742692337768 , f(x) = 2199519.1660304996\n",
      "Lần lặp thứ 26 : x = 747.7740386523557 , f(x) = 2071912.8555914052\n",
      "Lần lặp thứ 27 : x = 712.5935543653047 , f(x) = 1949365.37150475\n",
      "Lần lặp thứ 28 : x = 678.11303614693 , f(x) = 1831659.7285996021\n",
      "Lần lặp thứ 29 : x = 644.3159134216005 , f(x) = 1718595.0786880169\n",
      "Lần lặp thứ 30 : x = 611.2003161791071 , f(x) = 1610023.3045976444\n",
      "Lần lặp thứ 31 : x = 578.749550503074 , f(x) = 1505761.724129664\n",
      "Lần lặp thứ 32 : x = 546.9398596381993 , f(x) = 1405602.3953175535\n",
      "Lần lặp thứ 33 : x = 515.7760052733211 , f(x) = 1309440.020144456\n",
      "Lần lặp thứ 34 : x = 485.2256763211899 , f(x) = 1217054.8481707857\n",
      "Lần lặp thứ 35 : x = 455.2949539397373 , f(x) = 1128356.179950279\n",
      "Lần lặp thứ 36 : x = 425.9584662767728 , f(x) = 1043153.9878271322\n",
      "Lần lặp thứ 37 : x = 397.2053137117068 , f(x) = 961317.7802845481\n",
      "Lần lặp thứ 38 : x = 369.0350879976208 , f(x) = 882745.6214431524\n",
      "Lần lặp thứ 39 : x = 341.4277368499829 , f(x) = 807282.0873115204\n",
      "Lần lặp thứ 40 : x = 314.36677213377567 , f(x) = 734790.5510157781\n",
      "Lần lặp thứ 41 : x = 287.8444635788806 , f(x) = 665163.2278162634\n",
      "Lần lặp thứ 42 : x = 261.8534224721382 , f(x) = 598295.8363191814\n",
      "Lần lặp thứ 43 : x = 236.38373796079367 , f(x) = 534080.6455999301\n",
      "Lần lặp thứ 44 : x = 211.42419864603193 , f(x) = 472410.45349827444\n",
      "Lần lặp thứ 45 : x = 186.9634558361491 , f(x) = 413181.7116794396\n",
      "Lần lặp thứ 46 : x = 162.99058345130285 , f(x) = 356295.6955711604\n",
      "Lần lặp thứ 47 : x = 139.4958581316785 , f(x) = 301659.80691432673\n",
      "Lần lặp thứ 48 : x = 116.47190936353638 , f(x) = 249189.37153586242\n",
      "Lần lặp thứ 49 : x = 93.91305231279094 , f(x) = 198805.9328068963\n",
      "Lần lặp thứ 50 : x = 71.80972140336327 , f(x) = 150426.72734934863\n",
      "Lần lặp thứ 51 : x = 50.144634974589835 , f(x) = 103957.0205833501\n",
      "Lần lặp thứ 52 : x = 28.90675139989261 , f(x) = 59314.90877966896\n",
      "Lần lặp thứ 53 : x = 8.100171199535229 , f(x) = 16451.47053222595\n",
      "Lần lặp thứ 54 : x = -12.288757550072006 , f(x) = -24709.004600446635\n",
      "Lần lặp thứ 55 : x = -32.27793430822646 , f(x) = -64255.978279245595\n",
      "Lần lặp thứ 56 : x = -51.85783288805747 , f(x) = -102219.87578679173\n",
      "Lần lặp thứ 57 : x = -71.05417345699234 , f(x) = -138693.07269667293\n",
      "Lần lặp thứ 58 : x = -89.8602617068066 , f(x) = -173713.2549523529\n",
      "Lần lặp thứ 59 : x = -108.29597369178377 , f(x) = -207354.06189970823\n",
      "Lần lặp thứ 60 : x = -126.35636495054766 , f(x) = -239653.3347788889\n",
      "Lần lặp thứ 61 : x = -144.06394077664328 , f(x) = -270687.1559346005\n",
      "Lần lặp thứ 62 : x = -161.4077876122936 , f(x) = -300474.6513270634\n",
      "Lần lặp thứ 63 : x = -178.4124272823254 , f(x) = -329098.2924920882\n",
      "Lần lặp thứ 64 : x = -195.07579505824282 , f(x) = -356583.61960542167\n",
      "Lần lặp thứ 65 : x = -211.39933420515862 , f(x) = -382970.2769115029\n",
      "Lần lặp thứ 66 : x = -227.40355072874294 , f(x) = -408325.57654145727\n",
      "Lần lặp thứ 67 : x = -243.0895938170136 , f(x) = -432678.5266693554\n",
      "Lần lặp thứ 68 : x = -258.45500569512024 , f(x) = -456055.0767804085\n",
      "Lần lặp thứ 69 : x = -273.51134464122464 , f(x) = -478503.9992038489\n",
      "Lần lặp thứ 70 : x = -288.27159896184804 , f(x) = -500072.5613689285\n",
      "Lần lặp thứ 71 : x = -302.74081499673326 , f(x) = -520793.2106353477\n",
      "Lần lặp thứ 72 : x = -316.9201974836397 , f(x) = -540692.129878142\n",
      "Lần lặp thứ 73 : x = -330.8127394499958 , f(x) = -559797.9936419479\n",
      "Lần lặp thứ 74 : x = -344.4242079549929 , f(x) = -578142.6819151087\n",
      "Lần lặp thứ 75 : x = -357.7615291726405 , f(x) = -595758.4506355689\n",
      "Lần lặp thứ 76 : x = -370.8313885837526 , f(x) = -612675.9186574402\n",
      "Lần lặp thứ 77 : x = -383.6397703348349 , f(x) = -628923.6002867664\n",
      "Lần lặp thứ 78 : x = -396.192058174753 , f(x) = -644528.2119373393\n",
      "Lần lặp thứ 79 : x = -408.49329398207885 , f(x) = -659515.1193862741\n",
      "Lần lặp thứ 80 : x = -420.5484327510247 , f(x) = -673908.7060619111\n",
      "Lần lặp thứ 81 : x = -432.36257655340546 , f(x) = -687732.6499648106\n",
      "Lần lặp thứ 82 : x = -443.9411664418706 , f(x) = -701010.1035812468\n",
      "Lần lặp thứ 83 : x = -455.2899974817719 , f(x) = -713763.675851097\n",
      "Lần lặp thứ 84 : x = -466.41479841947796 , f(x) = -726015.039546826\n",
      "Lần lặp thứ 85 : x = -477.3202298470277 , f(x) = -737784.1224038247\n",
      "Lần lặp thứ 86 : x = -488.0087998061744 , f(x) = -749088.3510029508\n",
      "Lần lặp thứ 87 : x = -498.48115565694724 , f(x) = -759943.0455679813\n",
      "Lần lặp thứ 88 : x = -508.7390653534977 , f(x) = -770363.7919016788\n",
      "Lần lặp thứ 89 : x = -518.7893087628657 , f(x) = -780369.4020866675\n",
      "Lần lặp thứ 90 : x = -528.6424643495228 , f(x) = -789981.2648164737\n",
      "Lần lặp thứ 91 : x = -538.3041651931078 , f(x) = -799217.0972666033\n",
      "Lần lặp thứ 92 : x = -547.7706778725073 , f(x) = -808086.8288824663\n",
      "Lần lặp thứ 93 : x = -557.0410461387727 , f(x) = -816600.1917889877\n",
      "Lần lặp thứ 94 : x = -566.1278739695512 , f(x) = -824776.2344894186\n",
      "Lần lặp thứ 95 : x = -575.0400617255932 , f(x) = -832633.9743482305\n",
      "Lần lặp thứ 96 : x = -583.7695817848524 , f(x) = -840179.2188839754\n",
      "Lần lặp thứ 97 : x = -592.3193894941767 , f(x) = -847420.617046675\n",
      "Lần lặp thứ 98 : x = -600.706301675205 , f(x) = -854379.8417158469\n",
      "Lần lặp thứ 99 : x = -608.9238008341131 , f(x) = -861064.9230889467\n",
      "Giá trị x cuối cùng sau Gradient Descent: -608.9238008341131\n",
      "Giá trị f(x) tương ứng: -861064.9230889467\n"
     ]
    }
   ],
   "source": [
    "learning_rate = 0.01\n",
    "max_iterations = 100\n",
    "initial_x = 2024\n",
    "\n",
    "final_x = gradient_descent(learning_rate, max_iterations, initial_x)\n",
    "print(\"Giá trị x cuối cùng sau Gradient Descent:\", final_x)\n",
    "print(\"Giá trị f(x) tương ứng:\", objective_function(final_x))"
   ]
  },
  {
   "cell_type": "code",
   "execution_count": 24,
   "metadata": {},
   "outputs": [
    {
     "name": "stdout",
     "output_type": "stream",
     "text": [
      "Lần lặp thứ 0 : x = -4047.4591234888667 , f(x) = 8193915.032024284\n",
      "Lần lặp thứ 1 : x = 2024.03127311779 , f(x) = 8191318.27039353\n",
      "Lần lặp thứ 2 : x = -4047.4872445029605 , f(x) = 8194085.769333636\n",
      "Lần lặp thứ 3 : x = 2024.063074256219 , f(x) = 8191511.352553215\n",
      "Lần lặp thứ 4 : x = -4047.515725998619 , f(x) = 8194258.69703297\n",
      "Lần lặp thứ 5 : x = 2024.0953685237564 , f(x) = 8191707.430730276\n",
      "Lần lặp thứ 6 : x = -4047.544532035089 , f(x) = 8194433.596969961\n",
      "Lần lặp thứ 7 : x = 2024.1281174840005 , f(x) = 8191906.271636937\n",
      "Lần lặp thứ 8 : x = -4047.5736240628903 , f(x) = 8194610.235144812\n",
      "Lần lặp thứ 9 : x = 2024.1612792519309 , f(x) = 8192107.621037655\n",
      "Lần lặp thứ 10 : x = -4047.602961090108 , f(x) = 8194788.362718866\n",
      "Lần lặp thứ 11 : x = 2024.1948086404973 , f(x) = 8192311.204637817\n",
      "Lần lặp thứ 12 : x = -4047.632499888645 , f(x) = 8194967.7172659235\n",
      "Lần lặp thứ 13 : x = 2024.2286573588008 , f(x) = 8192516.729285765\n",
      "Lần lặp thứ 14 : x = -4047.662195239396 , f(x) = 8195148.024259944\n",
      "Lần lặp thứ 15 : x = 2024.2627742618888 , f(x) = 8192723.88448831\n",
      "Lần lặp thứ 16 : x = -4047.6920002141987 , f(x) = 8195328.998786238\n",
      "Lần lặp thứ 17 : x = 2024.2971056508131 , f(x) = 8192932.344231561\n",
      "Lần lặp thứ 18 : x = -4047.72186649132 , f(x) = 8195510.347456372\n",
      "Lần lặp thứ 19 : x = 2024.3315956201413 , f(x) = 8193141.76909006\n",
      "Lần lặp thứ 20 : x = -4047.7517447001746 , f(x) = 8195691.770500786\n",
      "Lần lặp thứ 21 : x = 2024.366186448664 , f(x) = 8193351.80859838\n",
      "Lần lặp thứ 22 : x = -4047.7815847899737 , f(x) = 8195872.964006845\n",
      "Lần lặp thứ 23 : x = 2024.4008190276281 , f(x) = 8193562.103850802\n",
      "Lần lặp thứ 24 : x = -4047.811336416128 , f(x) = 8196053.622264951\n",
      "Lần lặp thứ 25 : x = 2024.4354333195324 , f(x) = 8193772.290286798\n",
      "Lần lặp thứ 26 : x = -4047.840949337574 , f(x) = 8196233.440181153\n",
      "Lần lặp thứ 27 : x = 2024.4699688394267 , f(x) = 8193982.000613406\n",
      "Lần lặp thứ 28 : x = -4047.870373817683 , f(x) = 8196412.11571173\n",
      "Lần lặp thứ 29 : x = 2024.5043651497917 , f(x) = 8194190.867810331\n",
      "Lần lặp thứ 30 : x = -4047.899561021218 , f(x) = 8196589.352273996\n",
      "Lần lặp thứ 31 : x = 2024.538562359522 , f(x) = 8194398.528160203\n",
      "Lần lặp thứ 32 : x = -4047.928463399814 , f(x) = 8196764.861087597\n",
      "Lần lặp thứ 33 : x = 2024.572501617312 , f(x) = 8194604.624245113\n",
      "Lần lặp thứ 34 : x = -4047.957035058761 , f(x) = 8196938.363402468\n",
      "Lần lặp thứ 35 : x = 2024.6061255898258 , f(x) = 8194808.80785098\n",
      "Lần lặp thứ 36 : x = -4047.985232098401 , f(x) = 8197109.592572821\n",
      "Lần lặp thứ 37 : x = 2024.6393789155445 , f(x) = 8195010.742724437\n",
      "Lần lặp thứ 38 : x = -4048.013012924239 , f(x) = 8197278.29594127\n",
      "Lần lặp thứ 39 : x = 2024.6722086259042 , f(x) = 8195210.107131291\n",
      "Lần lặp thứ 40 : x = -4048.0403385207783 , f(x) = 8197444.236502819\n",
      "Lần lặp thứ 41 : x = 2024.7045645264125 , f(x) = 8195406.596172113\n",
      "Lần lặp thứ 42 : x = -4048.067172685219 , f(x) = 8197607.194325187\n",
      "Lần lặp thứ 43 : x = 2024.736399531721 , f(x) = 8195599.923818362\n",
      "Lần lặp thứ 44 : x = -4048.0934822182953 , f(x) = 8197766.967708964\n",
      "Lần lặp thứ 45 : x = 2024.7676699500298 , f(x) = 8195789.824640911\n",
      "Lần lặp thứ 46 : x = -4048.119237070762 , f(x) = 8197923.3740784265\n",
      "Lần lặp thứ 47 : x = 2024.7983357137482 , f(x) = 8195976.055212274\n",
      "Lần lặp thứ 48 : x = -4048.144410445185 , f(x) = 8198076.250600981\n",
      "Lần lặp thứ 49 : x = 2024.8283605548504 , f(x) = 8196158.395173021\n",
      "Lần lặp thứ 50 : x = -4048.1689788538342 , f(x) = 8198225.454540003\n",
      "Lần lặp thứ 51 : x = 2024.8577121248645 , f(x) = 8196336.647961946\n",
      "Lần lặp thứ 52 : x = -4048.1929221344626 , f(x) = 8198370.863351867\n",
      "Lần lặp thứ 53 : x = 2024.8863620607954 , f(x) = 8196510.641217885\n",
      "Lần lặp thứ 54 : x = -4048.2162234266125 , f(x) = 8198512.374543244\n",
      "Lần lặp thứ 55 : x = 2024.9142859995054 , f(x) = 8196680.226868462\n",
      "Lần lặp thứ 56 : x = -4048.238869111802 , f(x) = 8198649.905308946\n",
      "Lần lặp thứ 57 : x = 2024.9414635441117 , f(x) = 8196845.280927356\n",
      "Lần lặp thứ 58 : x = -4048.2608487214584 , f(x) = 8198783.3919738075\n",
      "Lần lặp thứ 59 : x = 2024.9678781867506 , f(x) = 8197005.703026492\n",
      "Lần lặp thứ 60 : x = -4048.2821548168367 , f(x) = 8198912.789264366\n",
      "Lần lặp thứ 61 : x = 2024.9935171926872 , f(x) = 8197161.415713374\n",
      "Lần lặp thứ 62 : x = -4048.302782845348 , f(x) = 8199038.069437137\n",
      "Lần lặp thứ 63 : x = 2025.0183714511068 , f(x) = 8197312.363545936\n",
      "Lần lặp thứ 64 : x = -4048.3227309777467 , f(x) = 8199159.221290555\n",
      "Lần lặp thứ 65 : x = 2025.042435298089 , f(x) = 8197458.51201836\n",
      "Lần lặp thứ 66 : x = -4048.3419999305697 , f(x) = 8199276.249087228\n",
      "Lần lặp thứ 67 : x = 2025.0657063172948 , f(x) = 8197599.846351382\n",
      "Lần lặp thứ 68 : x = -4048.3605927779863 , f(x) = 8199389.171411795\n",
      "Lần lặp thứ 69 : x = 2025.088185123699 , f(x) = 8197736.37017952\n",
      "Lần lặp thứ 70 : x = -4048.3785147569524 , f(x) = 8199498.019987973\n",
      "Lần lặp thứ 71 : x = 2025.1098751354393 , f(x) = 8197868.104166001\n",
      "Lần lặp thứ 72 : x = -4048.395773069201 , f(x) = 8199602.8384763505\n",
      "Lần lặp thứ 73 : x = 2025.1307823384386 , f(x) = 8197995.084573682\n",
      "Lần lặp thứ 74 : x = -4048.412376683219 , f(x) = 8199703.681271957\n",
      "Lần lặp thứ 75 : x = 2025.1509150480279 , f(x) = 8198117.361817645\n",
      "Lần lặp thứ 76 : x = -4048.4283361389344 , f(x) = 8199800.6123182345\n",
      "Lần lặp thứ 77 : x = 2025.170283671283 , f(x) = 8198234.999022018\n",
      "Lần lặp thứ 78 : x = -4048.443663357426 , f(x) = 8199893.703951426\n",
      "Lần lặp thứ 79 : x = 2025.1889004732811 , f(x) = 8198348.070600521\n",
      "Lần lặp thứ 80 : x = -4048.458371457563 , f(x) = 8199983.035786997\n",
      "Lần lặp thứ 81 : x = 2025.2067793499564 , f(x) = 8198456.660876999\n",
      "Lần lặp thứ 82 : x = -4048.4724745810745 , f(x) = 8200068.693657201\n",
      "Lần lặp thứ 83 : x = 2025.223935609748 , f(x) = 8198560.862759283\n",
      "Lần lặp thứ 84 : x = -4048.4859877272056 , f(x) = 8200150.768606784\n",
      "Lần lặp thứ 85 : x = 2025.2403857657528 , f(x) = 8198660.7764768\n",
      "Lần lặp thứ 86 : x = -4048.4989265977792 , f(x) = 8200229.355951895\n",
      "Lần lặp thứ 87 : x = 2025.2561473396718 , f(x) = 8198756.508389743\n",
      "Lần lặp thứ 88 : x = -4048.5113074531773 , f(x) = 8200304.554405245\n",
      "Lần lặp thứ 89 : x = 2025.2712386784415 , f(x) = 8198848.169875242\n",
      "Lần lặp thứ 90 : x = -4048.5231469795353 , f(x) = 8200376.465269354\n",
      "Lần lặp thứ 91 : x = 2025.285678784102 , f(x) = 8198935.8762939\n",
      "Lần lặp thứ 92 : x = -4048.5344621671848 , f(x) = 8200445.191698095\n",
      "Lần lặp thứ 93 : x = 2025.2994871571645 , f(x) = 8199019.746038292\n",
      "Lần lặp thứ 94 : x = -4048.5452702002294 , f(x) = 8200510.83802584\n",
      "Lần lặp thứ 95 : x = 2025.3126836534757 , f(x) = 8199099.899663394\n",
      "Lần lặp thứ 96 : x = -4048.5555883569778 , f(x) = 8200573.509162531\n",
      "Lần lặp thứ 97 : x = 2025.3252883543755 , f(x) = 8199176.459097767\n",
      "Lần lặp thứ 98 : x = -4048.5654339208404 , f(x) = 8200633.310052296\n",
      "Lần lặp thứ 99 : x = 2025.3373214497888 , f(x) = 8199249.54693326\n",
      "Giá trị x cuối cùng sau Gradient Descent: 2025.3373214497888\n",
      "Giá trị f(x) tương ứng: 8199249.54693326\n"
     ]
    }
   ],
   "source": [
    "learning_rate = 1\n",
    "max_iterations = 100\n",
    "initial_x = 2024\n",
    "\n",
    "final_x = gradient_descent(learning_rate, max_iterations, initial_x)\n",
    "print(\"Giá trị x cuối cùng sau Gradient Descent:\", final_x)\n",
    "print(\"Giá trị f(x) tương ứng:\", objective_function(final_x))"
   ]
  },
  {
   "cell_type": "markdown",
   "metadata": {},
   "source": [
    "4. Hãy trình bày một ví dụ cụ thể về một vấn đề thực tế trong học máy hoặc khoa học dữ liệu mà Gradient Descent có thể được sử dụng để giải quyết.\n",
    "\n",
    "Gradient Descent được sử dụng rộng rãi trong lĩnh vực học máy, đặc biệt là trong việc huấn luyện các mô hình dự đoán như hồi quy tuyến tính, mạng neural và các mô hình học sâu khác. Thuật toán này giúp tìm ra các tham số tối ưu của mô hình dựa trên dữ liệu huấn luyện và hàm mất mát, từ đó cải thiện khả năng dự đoán của mô hình.\n",
    "-  Ví dụ như để tìm ra nghiệm của hồi qui Logistic thì chúng ta sẽ thực hiện cập nhật nghiệm trên từng điểm dữ liệu $(\\mathbf{x}_i, y_i)$. Các điểm được lựa chọn một cách ngẫu nhiên ở mỗi lượt cập nhật.:\n",
    "$$\\mathbf{w} := \\mathbf{w} - \\alpha ~ \\frac{\\delta \\mathcal{L}(\\mathbf{w}; \\mathbf{x}_i, y_i)}{\\delta \\mathbf{w}} \\tag{3}$$\n",
    "\n",
    "\n",
    "Mặt khác:\n",
    "\n",
    "$$\\mathcal{L}(\\mathbf{w}; \\mathbf{x}_i, y_i) = -[y_i \\log {\\hat{y}}_i + (1-y_i) \\log (1 - \\hat{y}_i)]$$\n",
    "\n",
    "Ngoài ra ta dễ dàng chứng minh được:\n",
    "\n",
    "$$\\begin{align}\\frac{\\delta \\mathcal{L}(\\mathbf{w}; \\mathbf{x}_i, y_i)}{\\delta \\mathbf{w}} & = & -[y_i \\frac{\\delta \\log {\\hat{y}}_i}{\\delta \\mathbf{w}} + (1-y_i) \\frac{\\delta \\log {(1-\\hat{y}}_i)}{\\delta \\mathbf{w}}] \\\\\n",
    "& = & -[y_i \\frac{\\delta \\log \\hat{y}_i}{\\delta \\hat{y}_i}\\frac{\\delta \\hat{y}_i}{\\delta \\mathbf{w}} + (1-y_i) \\frac{\\delta \\log {(1-\\hat{y}}_i)}{\\delta \\hat{y}_i} \\frac{\\delta \\hat{y}_i}{\\delta \\mathbf{w}}] \\\\\n",
    "& = & -[y_i \\frac{1}{\\hat{y}_i} - (1-y_i) \\frac{1}{(1-\\hat{y}_i)}] \\frac{\\delta \\hat{y}_i}{\\delta \\mathbf{w}} \\\\\n",
    "& = & - [\\frac{y_i-\\hat{y}_i}{\\hat{y}_i(1-\\hat{y}_i)}] \\frac{\\delta \\hat{y}_i}{\\delta \\mathbf{w}} \\tag{4}\n",
    "\\end{align}$$\n",
    "\n",
    "Dòng 1 suy ra dòng 2 là vì ta sử dụng công thức chain rule trong vi phân. Đặt $z = e^{-\\mathbf{w}^{\\intercal} \\mathbf{x}}$. Tiếp tục khai triển:\n",
    "\n",
    "$$\\frac{\\delta \\hat{y}_i}{\\delta \\mathbf{w}} = \\frac{\\delta \\frac{1}{1+z_i}}{\\delta \\mathbf{w}} = \\frac{\\delta \\frac{1}{1+z_i}}{\\delta z_i} \\frac{\\delta z_i}{\\delta \\mathbf{w}} = \\frac{-1}{(1+z_i)^2} (-z_i\\mathbf{x}_i) = -\\mathbf{x}\\frac{z_i}{(1+z_i)^2} = \\mathbf{x}_i\\hat{y}_i(1-\\hat{y}_i)$$\n",
    "\n",
    "Từ đó thế vào $(4)$ ta được:\n",
    "\n",
    "$$\\frac{\\delta \\mathcal{L}(\\mathbf{w}; \\mathbf{x}_i, y_i)}{\\delta \\mathbf{w}} = \\mathbf{x}_i (y_i-\\hat{y}_i)$$\n",
    "\n",
    "Như vậy công thức $(3)$ cập nhật nghiệm theo gradient descent sẽ được rút ngắn xuống thành:\n",
    "\n",
    "$$\\mathbf{w} := \\mathbf{w} - \\alpha ~ \\mathbf{x}_i(y_i-\\hat{y}_i)$$"
   ]
  },
  {
   "cell_type": "markdown",
   "metadata": {},
   "source": [
    "### Câu 3 (3 điểm)"
   ]
  },
  {
   "cell_type": "markdown",
   "metadata": {
    "id": "V5_DJ49xgi-x"
   },
   "source": [
    "Gọi $\\gamma=\\overline{\\gamma_1\\gamma_2\\gamma_3\\gamma_4\\gamma_5\\gamma_6\\gamma_7\\gamma_8}$ là mã số sinh viên của anh/chị. Đặt $\\alpha=\\gamma_7$ và $\\beta=\\sum_{i=1}^8\\gamma_i$, xét bài toán tối ưu sau\n",
    "\\begin{align}\n",
    "\\min_{x=(x_1,x_2)\\in \\mathbb{R}^2} f(x)=\\dfrac{1}{2}x_1^2+\\dfrac{1}{2}x_2^2+(\\alpha+1) x_2-\\beta\\quad (1)\n",
    "\\end{align}"
   ]
  },
  {
   "cell_type": "markdown",
   "metadata": {},
   "source": [
    "1. Hãy tìm $\\alpha,\\beta$ và giá trị tối ưu $p^*$ của bài toán (1)."
   ]
  },
  {
   "cell_type": "markdown",
   "metadata": {},
   "source": [
    "2. Sử dụng thuật toán Gradient Descent cho bài toán (1) với learning rate là $\\dfrac{1}{\\alpha+1}$ và điểm khởi tạo $x^{(0)}=(1,0)$, hãy tìm công thức cho điểm cập nhật $x^{(k)}$. "
   ]
  },
  {
   "cell_type": "markdown",
   "metadata": {},
   "source": [
    "3. Gọi $x^*$ là điểm tối ưu của (1), hãy vẽ đồ thị biểu thị cho sai số $\\text{err}_k=\\|\\nabla f(x^*)-\\nabla f(x^{(k)})\\|_2^2$. Từ đó anh/chị rút ra được kết luận gì?"
   ]
  },
  {
   "cell_type": "markdown",
   "metadata": {},
   "source": [
    "4. Hãy tìm learning rate trong thuật toán Gradient Descent của bài toán (1) theo phương pháp exact line search. Từ đó rút ra nhận xét cho các điểm cập nhật $x^{(k)}$."
   ]
  },
  {
   "cell_type": "markdown",
   "metadata": {},
   "source": [
    "MSSV : 21068521   \n",
    "\n",
    "$\\alpha =  2$\n",
    "\n",
    "$\\beta = 25 $ "
   ]
  },
  {
   "cell_type": "code",
   "execution_count": 40,
   "metadata": {},
   "outputs": [],
   "source": [
    "alpha = 2\n",
    "beta = 25\n",
    "def f_x(x1,x2):\n",
    "    return 1/2*x1**2 + 1/2*x2**2 + (alpha+1)*x2 - beta"
   ]
  },
  {
   "cell_type": "code",
   "execution_count": 41,
   "metadata": {},
   "outputs": [
    {
     "data": {
      "text/plain": [
       "-29.5"
      ]
     },
     "execution_count": 41,
     "metadata": {},
     "output_type": "execute_result"
    }
   ],
   "source": [
    "f_x(0,-3)"
   ]
  },
  {
   "cell_type": "markdown",
   "metadata": {},
   "source": [
    "1. Để tìm giá trị tối ưu $p^*$ của bài toán (1), ta cần tìm nghiệm của phương trình đạo hàm bậc nhất của hàm mục tiêu $f(x)$ bằng 0:\n",
    "\n",
    "$$\\begin{align}\n",
    "\\nabla f(x) = \\begin{bmatrix}\n",
    "\\frac{\\partial f}{\\partial x_1} \\\\\n",
    "\\frac{\\partial f}{\\partial x_2}\n",
    "\\end{bmatrix} = \\begin{bmatrix}\n",
    "x_1 \\\\\n",
    "x_2 + 3\n",
    "\\end{bmatrix} = \\mathbf{0}\n",
    "\\end{align}$$\n",
    "\n",
    "Từ đó, ta có $x_1 = 0$ và $x_2 = -3$. Vậy giá trị tối ưu $p^* = f(0, -3) = -29.5$.\n"
   ]
  },
  {
   "cell_type": "markdown",
   "metadata": {},
   "source": [
    "2. Sử dụng thuật toán Gradient Descent cho bài toán (1) với learning rate là $\\dfrac{1}{\\alpha+1}$ và điểm khởi tạo $x^{(0)}=(1,0)$,  công thức cho điểm cập nhật $x^{(k)}$ như sau : \n",
    "\n",
    "\n",
    "\\begin{align}\n",
    "x^{(k+1)} = x^{(k)} - t \\nabla f(x^{(k)})\n",
    "\\end{align}\n",
    "\n"
   ]
  },
  {
   "cell_type": "markdown",
   "metadata": {},
   "source": [
    "$ t = \\frac{1}{3}$"
   ]
  },
  {
   "cell_type": "markdown",
   "metadata": {},
   "source": [
    "$$\\displaystyle \\begin{align*}\n",
    "x^{(k)} &=x^{(k-1)} - t . \\nabla f_{x^{(k-1)}}\\\\\n",
    "&=(x_1^{(k-1)},x_2^{(k-1)}) - \\frac{1}{3}(x_1^{(k-1)},x_2^{(k-1)}+3) \\\\\n",
    "&= (\\frac{2}{3}x_1^{(k-1)},\\frac{2}{3}x_2^{(k-1)}-1) \\\\ \n",
    "\\end{align*}$$\n",
    "\n",
    "\n",
    "\n",
    "$$\\displaystyle \\begin{align*}\n",
    "x_1^{(k)} = \\frac{2}{3}x_1^{(k-1)} = (\\frac{2}{3})^2x_1^{(k-2)} = \\dots = (\\frac{2}{3})^k x_1^{(0)} = (\\frac{2}{3})^k\n",
    "\n",
    "\\end{align*}$$\n",
    "\n",
    "$$\\displaystyle \\begin{align*}\n",
    "x_2^{(k)} = \\frac{2}{3}x_2^{(k-1)}-1 = (\\frac{2}{3})^2x_2^{(k-2)}-1 = \\dots = (\\frac{2}{3})^k x_2^{(0)} -1= -1\n",
    "\\end{align*}$$\n",
    "\n",
    "Vậy $$\\displaystyle x^{(k)} = \\left((\\frac{2}{3})^k, -1 \\right)$$"
   ]
  },
  {
   "cell_type": "markdown",
   "metadata": {},
   "source": [
    "3. Gọi $x^*$ là điểm tối ưu của (1), hãy vẽ đồ thị biểu thị cho sai số $\\text{err}_k=\\|\\nabla f(x^*)-\\nabla f(x^{(k)})\\|_2^2$. Từ đó anh/chị rút ra được kết luận gì?"
   ]
  },
  {
   "cell_type": "code",
   "execution_count": 1,
   "metadata": {},
   "outputs": [
    {
     "data": {
      "image/png": "[encoded data removed]",
      "text/plain": [
       "<Figure size 640x480 with 1 Axes>"
      ]
     },
     "metadata": {},
     "output_type": "display_data"
    }
   ],
   "source": [
    "import numpy as np\n",
    "import matplotlib.pyplot as plt\n",
    "\n",
    "def objective_function(x, alpha, beta):\n",
    "    x1, x2 = x\n",
    "    return 0.5 * x1**2 + 0.5 * x2**2 + (alpha + 1) * x2 - beta\n",
    "\n",
    "def gradient(x, alpha):\n",
    "    x1, x2 = x\n",
    "    grad_x1 = x1\n",
    "    grad_x2 = x2 + alpha + 1\n",
    "    return (grad_x1, grad_x2)\n",
    "\n",
    "# Tính sai số err_k\n",
    "def compute_error(x_optimal, x_current, alpha):\n",
    "    grad_optimal = gradient(x_optimal, alpha)\n",
    "    grad_current = gradient(x_current, alpha)\n",
    "    error = np.linalg.norm(np.array(grad_optimal) - np.array(grad_current))**2\n",
    "    return error\n",
    "\n",
    "alpha = 2\n",
    "beta = 25\n",
    "\n",
    "# Learning rate\n",
    "learning_rate = 1 / (alpha + 1)\n",
    "\n",
    "# Điểm tối ưu x*\n",
    "x_optimal = (0, -alpha - 1)\n",
    "\n",
    "# Điểm khởi tạo\n",
    "initial_x = (1, 0)\n",
    "\n",
    "# Số lần lặp\n",
    "num_iterations = 100\n",
    "\n",
    "# Lưu trữ sai số err_k\n",
    "errors = []\n",
    "\n",
    "# Thực hiện Gradient Descent và tính sai số\n",
    "x = initial_x\n",
    "for k in range(num_iterations):\n",
    "    grad_current = gradient(x, alpha)\n",
    "    error_k = compute_error(x_optimal, x, alpha)\n",
    "    errors.append(error_k)\n",
    "    \n",
    "    x1_update = 0.5 * x[0]\n",
    "    x2_update = 0.5 * (x[1] - alpha - 1)\n",
    "    x = (x[0] - learning_rate * x1_update, x[1] - learning_rate * x2_update)\n",
    "\n",
    "# Vẽ đồ thị sai số\n",
    "plt.plot(range(1, num_iterations + 1), errors, marker='o', linestyle='-', color='b')\n",
    "plt.xlabel('Số lần lặp (k)')\n",
    "plt.ylabel('Sai số $err_k$')\n",
    "plt.title('Đồ thị sai số theo số lần lặp')\n",
    "plt.grid(True)\n",
    "plt.show()\n"
   ]
  },
  {
   "cell_type": "markdown",
   "metadata": {},
   "source": [
    "4. Hãy tìm learning rate trong thuật toán Gradient Descent của bài toán (1) theo phương pháp exact line search. Từ đó rút ra nhận xét cho các điểm cập nhật $x^{(k)}$."
   ]
  },
  {
   "cell_type": "code",
   "execution_count": 67,
   "metadata": {},
   "outputs": [
    {
     "name": "stdout",
     "output_type": "stream",
     "text": [
      "gradient_f = Matrix([[1.0*x1], [1.0*x2 + 3]])\n",
      "hessian_fx = Matrix([[1.00000000000000, 0], [0, 1.00000000000000]])\n"
     ]
    },
    {
     "data": {
      "text/latex": [
       "$\\displaystyle \\left[\\begin{matrix}- 1.0 s x_{1} + x_{1}\\\\- s \\left(1.0 x_{2} + 3\\right) + x_{2}\\end{matrix}\\right]$"
      ],
      "text/plain": [
       "Matrix([\n",
       "[      -1.0*s*x1 + x1],\n",
       "[-s*(1.0*x2 + 3) + x2]])"
      ]
     },
     "execution_count": 67,
     "metadata": {},
     "output_type": "execute_result"
    }
   ],
   "source": [
    "\n",
    "from sympy import symbols, diff , Matrix ,solve,latex\n",
    "import numpy as np\n",
    "from IPython.display import display, Markdown\n",
    "# Định nghĩa biến ký hiệu vector\n",
    "x1,x2 = symbols('x1 x2')  # Tạo một vector x gồm 2  thành phần x1, x2 \n",
    "x = symbols('x')\n",
    "x = [x1,x2]\n",
    "alpha = 2\n",
    "beta = 25\n",
    "# Định nghĩa hàm số dựa trên vector x (ví dụ: f = x1^2 + x2^2 )\n",
    "f = 1/2*x1**2 + 1/2*x2**2 + (alpha+1)*x2 - beta\n",
    "\n",
    "# Tính gradient của hàm số f đối với vector x\n",
    "gradient_fx = Matrix([diff(f, xi) for xi in x])\n",
    "hessian_fx = Matrix([[diff(f, xi, xj) for xi in x] for xj in x])\n",
    "# In kết quả\n",
    "print(f\"gradient_f = {gradient_fx}\")\n",
    "print(f\"hessian_fx = {hessian_fx}\")\n",
    "s = symbols('s')\n",
    "df_dx1 = diff(f,x1)\n",
    "df_dx2 = diff(f,x2)\n",
    "tk = Matrix([[x1],[x2]]) - s*Matrix([df_dx1, df_dx2])\n",
    "tk"
   ]
  },
  {
   "cell_type": "code",
   "execution_count": 69,
   "metadata": {},
   "outputs": [
    {
     "data": {
      "text/plain": [
       "{s: 1.00000000000000}"
      ]
     },
     "execution_count": 69,
     "metadata": {},
     "output_type": "execute_result"
    }
   ],
   "source": [
    "nghiem_s = solve(diff(f.subs({x1: tk[0], x2:tk[1]}),s))\n",
    "nghiem_s[0]"
   ]
  },
  {
   "cell_type": "code",
   "execution_count": 65,
   "metadata": {},
   "outputs": [
    {
     "data": {
      "text/markdown": [
       "Điểm s để f(x-s.∇.f(x)) nhỏ nhất là : $1.0$"
      ],
      "text/plain": [
       "<IPython.core.display.Markdown object>"
      ]
     },
     "metadata": {},
     "output_type": "display_data"
    }
   ],
   "source": [
    "nabla = '\\u2207'\n",
    "display(Markdown(f\"Điểm s để f(x-s.{nabla}.f(x)) nhỏ nhất là : ${latex(nghiem_s[0][s])}$\"))\n"
   ]
  },
  {
   "cell_type": "markdown",
   "metadata": {},
   "source": [
    "Vậy $t=1$ , điểm $x^{k} = x^{k-1} - \\nabla x^{k-1}$"
   ]
  },
  {
   "cell_type": "markdown",
   "metadata": {},
   "source": [
    "## ------------------------------------------------ Hết -----------------------------------------------"
   ]
  },
  {
   "cell_type": "markdown",
   "metadata": {},
   "source": [
    "### Lưu ý: sinh viên không được sử dụng internet. Giám thị không giải thích gì thêm."
   ]
  },
  {
   "attachments": {
    "image.png": {
     "image/png": "[encoded data removed]"
    }
   },
   "cell_type": "markdown",
   "metadata": {},
   "source": [
    "![image.png](attachment:image.png)"
   ]
  },
  {
   "cell_type": "code",
   "execution_count": 43,
   "metadata": {},
   "outputs": [
    {
     "name": "stdout",
     "output_type": "stream",
     "text": [
      "     pcost       dcost       gap    pres   dres\n",
      " 0:  2.3571e+00  4.5609e+00  4e+00  4e-01  8e+00\n",
      " 1:  3.2978e+00  3.1725e+00  4e-01  5e-02  9e-01\n",
      " 2:  3.1199e+00  3.0388e+00  8e-02  7e-17  2e-15\n",
      " 3:  3.0860e+00  3.0851e+00  1e-03  7e-17  2e-15\n",
      " 4:  3.0857e+00  3.0857e+00  1e-05  9e-17  6e-16\n",
      " 5:  3.0857e+00  3.0857e+00  1e-07  5e-17  2e-15\n",
      "Optimal solution found.\n",
      "[ 2.06e+00]\n",
      "[ 5.14e-01]\n",
      "[ 6.86e-01]\n",
      "\n"
     ]
    }
   ],
   "source": [
    "from cvxopt import matrix, solvers\n",
    "\n",
    "# Khai báo hàm mục tiêu và các ràng buộc\n",
    "P = matrix([[1.0, 0.0, 0.0], [0.0, 2.0, 0.0], [0.0, 0.0, 3.0]])\n",
    "q = matrix([0.0, 0.0, 0.0])\n",
    "G = matrix([[-5.0, 1.0, 3.0],[-2.0, -1.0, -2.0]]).T\n",
    "h = matrix([-3.0,-6.0])\n",
    "\n",
    "# Giải bài toán tối ưu\n",
    "sol = solvers.qp(P, q, G, h)\n",
    "\n",
    "print(sol['x'])\n"
   ]
  },
  {
   "cell_type": "code",
   "execution_count": 40,
   "metadata": {},
   "outputs": [
    {
     "name": "stdout",
     "output_type": "stream",
     "text": [
      "\n",
      "The optimal value is 3.085714285714285\n",
      "A solution x is\n",
      "[2.05714286 0.51428571 0.68571429]\n",
      "A dual solution corresponding to the inequality constraints is\n",
      "[0.         1.02857143]\n"
     ]
    }
   ],
   "source": [
    "import cvxpy as cp\n",
    "import numpy as np\n",
    "\n",
    "# Generate a random non-trivial quadratic program.\n",
    "\n",
    "P = np.array([[1.0, 0.0, 0.0], [0.0, 2.0, 0.0], [0.0, 0.0, 3.0]])\n",
    "q = np.array([[0.0, 0.0, 0.0]]).T\n",
    "G = np.array([[-5.0, 1.0, 3.0],[-2.0, -1.0, -2.0]])\n",
    "h = np.array([-3.0,-6.0]).T\n",
    "\n",
    "\n",
    "# Define and solve the CVXPY problem.\n",
    "n = 3\n",
    "x = cp.Variable(n)\n",
    "prob = cp.Problem(cp.Minimize((1/2)*cp.quad_form(x, P) + q.T @ x),\n",
    "     [G @ x <= h])\n",
    "prob.solve()\n",
    "\n",
    "# Print result.\n",
    "print(\"\\nThe optimal value is\", prob.value)\n",
    "print(\"A solution x is\")\n",
    "print(x.value)\n",
    "print(\"A dual solution corresponding to the inequality constraints is\")\n",
    "print(prob.constraints[0].dual_value)"
   ]
  },
  {
   "cell_type": "code",
   "execution_count": 41,
   "metadata": {},
   "outputs": [
    {
     "name": "stdout",
     "output_type": "stream",
     "text": [
      "Optimal value: 6.171428571428571\n",
      "Optimal variables: [2.05714286 0.51428571 0.68571429]\n"
     ]
    }
   ],
   "source": [
    "import cvxpy as cp\n",
    "import numpy as np\n",
    "\n",
    "# Define the variables\n",
    "x = cp.Variable(3)\n",
    "\n",
    "# Define the objective function\n",
    "P = np.array([[1.0, 0.0, 0.0], [0.0, 2.0, 0.0], [0.0, 0.0, 3.0]])\n",
    "q = np.array([0.0, 0.0, 0.0])\n",
    "objective = cp.quad_form(x, P) + q.T @ x\n",
    "\n",
    "# Define the constraints\n",
    "constraints = [\n",
    "    -5 * x[0] + x[1] + 3 * x[2] <= -3,\n",
    "    2 * x[0] + x[1] + 2 * x[2] >= 6\n",
    "]\n",
    "\n",
    "# Define the optimization problem\n",
    "problem = cp.Problem(cp.Minimize(objective), constraints)\n",
    "\n",
    "# Solve the problem\n",
    "problem.solve()\n",
    "\n",
    "# Get the optimal value and the optimal variable values\n",
    "optimal_value = problem.value\n",
    "optimal_vars = x.value\n",
    "\n",
    "print(\"Optimal value:\", optimal_value)\n",
    "print(\"Optimal variables:\", optimal_vars)"
   ]
  },
  {
   "cell_type": "markdown",
   "metadata": {},
   "source": []
  }
 ],
 "metadata": {
  "colab": {
   "provenance": []
  },
  "kernelspec": {
   "display_name": "Python 3 (ipykernel)",
   "language": "python",
   "name": "python3"
  },
  "language_info": {
   "codemirror_mode": {
    "name": "ipython",
    "version": 3
   },
   "file_extension": ".py",
   "mimetype": "text/x-python",
   "name": "python",
   "nbconvert_exporter": "python",
   "pygments_lexer": "ipython3",
   "version": "3.9.13"
  }
 },
 "nbformat": 4,
 "nbformat_minor": 1
}
