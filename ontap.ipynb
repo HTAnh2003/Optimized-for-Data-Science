{
 "cells": [
  {
   "cell_type": "markdown",
   "metadata": {},
   "source": []
  },
  {
   "cell_type": "code",
   "execution_count": 1,
   "metadata": {},
   "outputs": [
    {
     "name": "stdout",
     "output_type": "stream",
     "text": [
      "Điểm cực tiểu là x1 = 2.000498, giá trị hàm mất mát là cost = 0.000000, sau 38 vòng lặp\n"
     ]
    }
   ],
   "source": [
    "# Sử dụng thuật toán GD để tìm nghiệm của $f(x) = x^2 - 4x + 4 $\n",
    "x = 5\n",
    "eta=0.1\n",
    "for i in range(100):\n",
    "    x_new = x - eta*(2*x-4)\n",
    "    if abs(2*x_new-4) < 1e-3:\n",
    "        print('Điểm cực tiểu là x1 = %f, giá trị hàm mất mát là cost = %f, sau %d vòng lặp'%(x_new, x_new**2-4*x_new+4, i))\n",
    "        break\n",
    "    x=x_new\n",
    "else:\n",
    "    print(\"Không tìm thấy nghiệm chấp nhận được sau {0} vòng lặp\".format)"
   ]
  },
  {
   "cell_type": "markdown",
   "metadata": {},
   "source": [
    "###  Bài tập ở lớp Lý thuyết :\n",
    "#### VD1 :\n",
    "$\\text{Xét bài toán } ~,~ \\displaystyle \\min_{x=(x_1,x_2) \\in \\mathbb{R}^2} f(x_1,x_2) = x_1^2 + 2x_2^2 $    \n",
    "          \n",
    "\n",
    "a) Tìm learning rate : t trong GD theo extract line search\n",
    "\n",
    "b)Cho điểm input $x^0 = (2,1)$. Tìm điểm cập nhật $x^k$ trong GD theo t tìm được ở trên "
   ]
  },
  {
   "cell_type": "code",
   "execution_count": 3,
   "metadata": {},
   "outputs": [],
   "source": [
    "import numpy as np\n",
    "import scipy \n",
    "import sympy"
   ]
  },
  {
   "cell_type": "code",
   "execution_count": 15,
   "metadata": {},
   "outputs": [
    {
     "name": "stdout",
     "output_type": "stream",
     "text": [
      "gradient_fx = (2*x1 , 4*x2)\n",
      "Hessian matrix: \n",
      "\t\t[[2 0]]\n",
      "\t\t[[0 4]]\n"
     ]
    }
   ],
   "source": [
    "from sympy import symbols, diff , Matrix ,solve,latex\n",
    "import numpy as np\n",
    "from IPython.display import display, Markdown\n",
    "\n",
    "# Định nghĩa các biến ký hiệu\n",
    "x1, x2 = symbols('x1 x2')\n",
    "\n",
    "# Định nghĩa hàm số\n",
    "f = x1**2 + 2*x2**2\n",
    "\n",
    "# Tính đạo hàm của hàm số f đối với x1\n",
    "df_dx1 = diff(f, x1)\n",
    "\n",
    "# Tính đạo hàm của hàm số f đối với x2\n",
    "df_dx2 = diff(f, x2)\n",
    "\n",
    "# In kết quả\n",
    "print(f\"gradient_fx = ({df_dx1} , {df_dx2})\")\n",
    "hessian_fx = np.matrix([[diff(diff(f, x1), x1), diff(diff(f, x1), x2)],\n",
    "                         [diff(diff(f, x2), x1), diff(diff(f, x2), x2)]])\n",
    "print(\"Hessian matrix: \", *hessian_fx , sep='\\n\\t\\t')"
   ]
  },
  {
   "cell_type": "code",
   "execution_count": 12,
   "metadata": {},
   "outputs": [
    {
     "data": {
      "text/latex": [
       "$\\displaystyle \\left[\\begin{matrix}2 x_{1}\\\\4 x_{2}\\end{matrix}\\right]$"
      ],
      "text/plain": [
       "Matrix([\n",
       "[2*x1],\n",
       "[4*x2]])"
      ]
     },
     "execution_count": 12,
     "metadata": {},
     "output_type": "execute_result"
    }
   ],
   "source": [
    "Matrix([df_dx1, df_dx2])"
   ]
  },
  {
   "cell_type": "code",
   "execution_count": 13,
   "metadata": {},
   "outputs": [
    {
     "data": {
      "text/latex": [
       "$\\displaystyle \\left[\\begin{matrix}2 & 0\\\\0 & 4\\end{matrix}\\right]$"
      ],
      "text/plain": [
       "Matrix([\n",
       "[2, 0],\n",
       "[0, 4]])"
      ]
     },
     "execution_count": 13,
     "metadata": {},
     "output_type": "execute_result"
    }
   ],
   "source": [
    "Matrix(hessian_fx)"
   ]
  },
  {
   "cell_type": "code",
   "execution_count": 14,
   "metadata": {},
   "outputs": [],
   "source": [
    "s = symbols('s')\n",
    "tk = Matrix([[x1],[x2]]) - s*Matrix([df_dx1, df_dx2])"
   ]
  },
  {
   "cell_type": "code",
   "execution_count": 15,
   "metadata": {},
   "outputs": [
    {
     "data": {
      "text/latex": [
       "$\\displaystyle \\left(- 2 s x_{1} + x_{1}\\right)^{2} + 2 \\left(- 4 s x_{2} + x_{2}\\right)^{2}$"
      ],
      "text/plain": [
       "(-2*s*x1 + x1)**2 + 2*(-4*s*x2 + x2)**2"
      ]
     },
     "execution_count": 15,
     "metadata": {},
     "output_type": "execute_result"
    }
   ],
   "source": [
    "f.subs({x1: tk[0], x2:tk[1]})"
   ]
  },
  {
   "cell_type": "code",
   "execution_count": 16,
   "metadata": {},
   "outputs": [
    {
     "data": {
      "text/latex": [
       "$\\displaystyle \\frac{x_{1}^{2} + 4 x_{2}^{2}}{2 \\left(x_{1}^{2} + 8 x_{2}^{2}\\right)}$"
      ],
      "text/plain": [
       "(x1**2 + 4*x2**2)/(2*(x1**2 + 8*x2**2))"
      ]
     },
     "execution_count": 16,
     "metadata": {},
     "output_type": "execute_result"
    }
   ],
   "source": [
    "nghiem_s = solve(diff(f.subs({x1: tk[0], x2:tk[1]}),s))\n",
    "nghiem_s[0][s]"
   ]
  },
  {
   "cell_type": "code",
   "execution_count": 66,
   "metadata": {},
   "outputs": [
    {
     "data": {
      "text/markdown": [
       "Điểm s để f(x-s.∇.f(x)) nhỏ nhất là : $\\frac{x_{1}^{2} + 4 x_{2}^{2}}{2 \\left(x_{1}^{2} + 8 x_{2}^{2}\\right)}$"
      ],
      "text/plain": [
       "<IPython.core.display.Markdown object>"
      ]
     },
     "metadata": {},
     "output_type": "display_data"
    }
   ],
   "source": [
    "nabla = '\\u2207'\n",
    "display(Markdown(f\"Điểm s để f(x-s.{nabla}.f(x)) nhỏ nhất là : ${latex(nghiem_s[0][s])}$\"))\n"
   ]
  },
  {
   "cell_type": "code",
   "execution_count": 294,
   "metadata": {},
   "outputs": [
    {
     "data": {
      "text/latex": [
       "$\\displaystyle \\left(- \\frac{x_{1} \\left(x_{1}^{2} + 4 x_{2}^{2}\\right)}{x_{1}^{2} + 8 x_{2}^{2}} + x_{1}\\right)^{2} + 2 \\left(- \\frac{2 x_{2} \\left(x_{1}^{2} + 4 x_{2}^{2}\\right)}{x_{1}^{2} + 8 x_{2}^{2}} + x_{2}\\right)^{2}$"
      ],
      "text/plain": [
       "(-x1*(x1**2 + 4*x2**2)/(x1**2 + 8*x2**2) + x1)**2 + 2*(-2*x2*(x1**2 + 4*x2**2)/(x1**2 + 8*x2**2) + x2)**2"
      ]
     },
     "execution_count": 294,
     "metadata": {},
     "output_type": "execute_result"
    }
   ],
   "source": [
    "(f.subs({x1: tk[0], x2:tk[1]})).subs(*nghiem_s)"
   ]
  },
  {
   "cell_type": "code",
   "execution_count": 18,
   "metadata": {},
   "outputs": [
    {
     "data": {
      "text/latex": [
       "$\\displaystyle \\frac{1}{3}$"
      ],
      "text/plain": [
       "1/3"
      ]
     },
     "execution_count": 18,
     "metadata": {},
     "output_type": "execute_result"
    }
   ],
   "source": [
    "t = nghiem_s[0][s].subs({x1:2,x2:1})\n",
    "t"
   ]
  },
  {
   "cell_type": "code",
   "execution_count": 19,
   "metadata": {},
   "outputs": [
    {
     "data": {
      "text/latex": [
       "$\\displaystyle \\left[\\begin{matrix}2 x_{1}\\\\4 x_{2}\\end{matrix}\\right]$"
      ],
      "text/plain": [
       "Matrix([\n",
       "[2*x1],\n",
       "[4*x2]])"
      ]
     },
     "execution_count": 19,
     "metadata": {},
     "output_type": "execute_result"
    }
   ],
   "source": [
    "Matrix([df_dx1, df_dx2])"
   ]
  },
  {
   "cell_type": "code",
   "execution_count": 72,
   "metadata": {},
   "outputs": [
    {
     "name": "stdout",
     "output_type": "stream",
     "text": [
      "Matrix([[2], [1]])\n",
      "Điểm cực tiểu là x1 = 0.000000, x2 = 0.000000, giá trị hàm muc tieu 0.000000, sau 13 vòng lặp\n"
     ]
    }
   ],
   "source": [
    "x0 = Matrix([[2],[1]])\n",
    "x=Matrix([x1,x2])\n",
    "x = x.subs({x1:2,x2:1})\n",
    "print(x)\n",
    "for i in range(100):\n",
    "    x_new = x - t*(Matrix([df_dx1.subs({x1:x[0]}), df_dx2.subs({x2:x[1]})]))\n",
    "    dk  = np.array([[float(df_dx1.subs({x1:x[0]}))],[float( df_dx2.subs({x2:x[1]}))]]) #gradient tại x hiện tại\n",
    "    if abs(np.linalg.norm(dk)) < 1e-5:\n",
    "        print('Điểm cực tiểu là x1 = %f, x2 = %f, giá trị hàm muc tieu %f, sau %d vòng lặp'%(x_new[0], x_new[1], f.subs({x1: x_new[0], x2:x_new[1]}), i))\n",
    "        break\n",
    "    x=x_new"
   ]
  },
  {
   "cell_type": "code",
   "execution_count": null,
   "metadata": {},
   "outputs": [],
   "source": []
  },
  {
   "cell_type": "code",
   "execution_count": null,
   "metadata": {},
   "outputs": [],
   "source": []
  },
  {
   "cell_type": "markdown",
   "metadata": {},
   "source": [
    "Bài thêm : \n",
    "1. Hãy giải thích cơ bản về thuật toán Gradient Descent và nó được sử dụng trong lĩnh vực nào trong học máy.\n",
    "\n",
    "\n",
    "2. Cho hàm số mục tiêu $f(x)=e^x+x^2-\\log(1+x^2)$, hãy tính đạo hàm của hàm số này.\n",
    "\n",
    "\n",
    "3. Sử dụng thuật toán Gradient Descent, hãy tìm giá trị của $x$ để tối ưu hóa hàm số $f(x)=e^x+x^2-\\log(1+x^2)$ với giá trị ban đầu $x^{(0)}=3$, sử dụng learning rate là $0.1$ và thực hiện tối đa $100$ vòng lặp. In ra giá trị của $x$ và $f(x)$ tương ứng sau mỗi vòng lặp.\n",
    "\n",
    "\n",
    "4. Bằng cách thay đổi giá trị $x^{(0)}$ và learning rate trong thuật toán trên, anh/chị hãy đưa ra những trở ngại có thể gặp khi áp dụng Gradient Descent và cách giải quyết chúng.\n"
   ]
  },
  {
   "cell_type": "markdown",
   "metadata": {},
   "source": [
    "Thuật toán Gradient Descent là một thuật toán tối ưu hóa được sử dụng để tìm cực trị,giá trị tối ưu của một hàm số. Nó xuất phát từ một điểm mà chúng ta coi là gần với nghiệm của bài toán, sau đó dùng một phép toán lặp để tiến dần đến điểm cần tìm, tức đến khi đạo hàm gần với 0.\n",
    "\n",
    "Gradient Descent được sử dụng rộng rãi trong lĩnh vực học máy, đặc biệt là trong việc huấn luyện các mô hình dự đoán như hồi quy tuyến tính, mạng neural và các mô hình học sâu khác. Thuật toán này giúp tìm ra các tham số tối ưu của mô hình dựa trên dữ liệu huấn luyện và hàm mất mát, từ đó cải thiện khả năng dự đoán của mô hình."
   ]
  },
  {
   "cell_type": "code",
   "execution_count": 1,
   "metadata": {},
   "outputs": [
    {
     "data": {
      "text/latex": [
       "$\\displaystyle x^{2} + e^{x} - \\log{\\left(x^{2} + 1 \\right)}$"
      ],
      "text/plain": [
       "x**2 + exp(x) - log(x**2 + 1)"
      ]
     },
     "execution_count": 1,
     "metadata": {},
     "output_type": "execute_result"
    }
   ],
   "source": [
    "import sympy \n",
    "import numpy as np\n",
    "from sympy import symbols, diff , Matrix ,solve,latex\n",
    "from IPython.display import display, Markdown\n",
    "\n",
    "x = symbols('x')\n",
    "# f = 3 * sympy.sin(x)**2 * sympy.cos(x)\n",
    "f = sympy.exp(x) + x**2 - sympy.log(1+x**2)\n",
    "f"
   ]
  },
  {
   "cell_type": "code",
   "execution_count": 2,
   "metadata": {},
   "outputs": [
    {
     "data": {
      "text/markdown": [
       "Đạo hàm của hàm số f(x) = $x^{2} + e^{x} - \\log{\\left(x^{2} + 1 \\right)}$ là : $2 x - \\frac{2 x}{x^{2} + 1} + e^{x}$"
      ],
      "text/plain": [
       "<IPython.core.display.Markdown object>"
      ]
     },
     "metadata": {},
     "output_type": "display_data"
    },
    {
     "data": {
      "text/latex": [
       "$\\displaystyle 2 x - \\frac{2 x}{x^{2} + 1} + e^{x}$"
      ],
      "text/plain": [
       "2*x - 2*x/(x**2 + 1) + exp(x)"
      ]
     },
     "execution_count": 2,
     "metadata": {},
     "output_type": "execute_result"
    }
   ],
   "source": [
    "display(Markdown(f\"Đạo hàm của hàm số f(x) = ${latex(f)}$ là : ${latex(diff(f,x))}$\"))\n",
    "diff(f,x)"
   ]
  },
  {
   "cell_type": "code",
   "execution_count": 3,
   "metadata": {},
   "outputs": [
    {
     "data": {
      "text/plain": [
       "(-0.717034853860673, 37, 0.587489722627262)"
      ]
     },
     "execution_count": 3,
     "metadata": {},
     "output_type": "execute_result"
    }
   ],
   "source": [
    "def grad(f,a):\n",
    "    return diff(f,x).subs({x:a}).evalf()  #evalf : chuyển về kiểu số \n",
    "\n",
    "def fx(f,a) :\n",
    "    return f.subs({x:a}).evalf()\n",
    "    \n",
    "def gradient_descent(f,x0,it,lr):\n",
    "    xt = [x0]\n",
    "    for i in range(it):\n",
    "        x_new = xt[-1] - lr*grad(f,xt[-1])\n",
    "        #print(f\"Lần lặp thứ {i} : x = {x_new} , f(x) = {fx(f,x_new)}\")\n",
    "        if abs(grad(f,x_new)) < 1e-3:\n",
    "            break\n",
    "        xt.append(x_new)\n",
    "    return (xt, i)\n",
    "\n",
    "x0 = 3\n",
    "lr = 0.1\n",
    "it = 100\n",
    "(xt,it1) = gradient_descent(f,x0,it,lr)\n",
    "xt[-1],it1,fx(f,xt[-1])"
   ]
  },
  {
   "cell_type": "markdown",
   "metadata": {},
   "source": [
    "Bằng cách thay đổi giá trị $x^{(0)}$ và learning rate trong thuật toán trên, anh/chị hãy đưa ra những trở ngại có thể gặp khi áp dụng Gradient Descent và cách giải quyết chúng.\n"
   ]
  },
  {
   "cell_type": "code",
   "execution_count": 4,
   "metadata": {},
   "outputs": [
    {
     "data": {
      "text/plain": [
       "(-0.704441146760136, 4, 0.587668605340227)"
      ]
     },
     "execution_count": 4,
     "metadata": {},
     "output_type": "execute_result"
    }
   ],
   "source": [
    "x0 = 5\n",
    "lr = 0.5\n",
    "it = 100\n",
    "(xt,it1) = gradient_descent(f,x0,it,lr)\n",
    "xt[-1],it1,fx(f,xt[-1])"
   ]
  },
  {
   "cell_type": "code",
   "execution_count": 5,
   "metadata": {},
   "outputs": [
    {
     "name": "stdout",
     "output_type": "stream",
     "text": [
      "Solution x1 = -1.110938, cost = -3.246394, obtained after 8 iterations\n",
      "Solution x2 = -1.110294, cost = -3.246394, obtained after 24 iterations\n"
     ]
    }
   ],
   "source": [
    "def grad(x):\n",
    "    return 2*x+ 5*np.cos(x)\n",
    "\n",
    "def cost(x):\n",
    "    return x**2 + 5*np.sin(x)\n",
    "\n",
    "def myGD1(eta, x0):\n",
    "    x = [x0]\n",
    "    for it in range(100):\n",
    "        x_new = x[-1] - eta*grad(x[-1])\n",
    "        if abs(grad(x_new)) < 1e-3:\n",
    "            break\n",
    "        x.append(x_new)\n",
    "    return (x, it)\n",
    "(x1, it1) = myGD1(.1, -3)\n",
    "(x2, it2) = myGD1(.1, 3)\n",
    "print('Solution x1 = %f, cost = %f, obtained after %d iterations'%(x1[-1], cost(x1[-1]), it1))\n",
    "print('Solution x2 = %f, cost = %f, obtained after %d iterations'%(x2[-1], cost(x2[-1]), it2))"
   ]
  },
  {
   "cell_type": "markdown",
   "metadata": {},
   "source": [
    "Tuy nhiên hạn chế của phương pháp này đó là cực trị tìm được chỉ là nghiệm gần đúng và không đảm bảo chắc chắn là cực trị toàn cục. Thế nhưng có khi di chuyển ngược chiều đạo hàm mà khiến giá trị $f(x)$ lớn hơn ,đó là khi ta đã vượt dốc, chẳng hạn như khi đã đến rất gần điểm cực trị $(x^*, y^*)$ nhưng _hệ số học tập_ quá lớn làm cho khoảng thay đổi ở bước tiếp theo cũng lớn theo và là nguyên nhân khiến nghiệm cập nhật vượt quá điểm cực trị. Trường hợp này gọi là nhảy dốc (_Step Over_).\n",
    "Để hạn chế hiện tượng _nhảy dốc_ thì ta cần lựa chọn $lr$ phù hợp bằng sử dụng extract line search hoặc backtracking line search hoặc chọn lr rất nhỏ từ $0.001$ tới $0.005$ và áp dụng những phương pháp tối ưu (_optimizer_) khác nhau để kiểm soát quá trình huấn luyện. Một số phương pháp tối ưu phổ biến là `Adam, Ada, RMProp, ...` "
   ]
  },
  {
   "cell_type": "markdown",
   "metadata": {},
   "source": [
    "### Câu khác :\n",
    "Xét bài toán tối ưu sau\n",
    "\\begin{align}\n",
    "\\min_{x=(x_1,x_2)\\in \\mathbb{R}^2} f(x)=\\dfrac{1}{2}x_1^2+\\dfrac{1}{2}x_2^2+2x_2\\quad (1)\n",
    "\\end{align}"
   ]
  },
  {
   "cell_type": "markdown",
   "metadata": {},
   "source": [
    "1. Hãy tìm giá trị tối ưu $p^*$ của bài toán (1).\n",
    "2. Sử dụng thuật toán Gradient Descent cho bài toán (1) với learning rate được tính theo phương pháp exact line search và điểm khởi tạo $x^{(0)}=(1,0)$, hãy tìm công thức cho điểm cập nhật $x^{(k)}$. \n",
    "3. Hãy vẽ đồ thị biểu thị cho sai số $\\text{err}_k=|f(x^{(k)})-p^*|$. Từ đó anh/chị rút ra được kết luận gì?"
   ]
  },
  {
   "cell_type": "code",
   "execution_count": 8,
   "metadata": {},
   "outputs": [
    {
     "data": {
      "text/markdown": [
       "Đạo hàm : $\\left[\\begin{matrix}1.0 x_{1} + 1\\end{matrix}\\right]$"
      ],
      "text/plain": [
       "<IPython.core.display.Markdown object>"
      ]
     },
     "metadata": {},
     "output_type": "display_data"
    },
    {
     "data": {
      "text/markdown": [
       "Đạo hàm : $\\left[\\begin{matrix}3.0 x_{2} - 2\\end{matrix}\\right]$"
      ],
      "text/plain": [
       "<IPython.core.display.Markdown object>"
      ]
     },
     "metadata": {},
     "output_type": "display_data"
    },
    {
     "data": {
      "text/plain": [
       "{x1: -1.00000000000000, x2: 0.666666666666667}"
      ]
     },
     "execution_count": 8,
     "metadata": {},
     "output_type": "execute_result"
    }
   ],
   "source": [
    "from sympy import symbols, diff, Matrix, solve, latex\n",
    "\n",
    "# Khai báo các biến\n",
    "x1, x2 = symbols('x1 x2')\n",
    "\n",
    "# Ma trận A và vector b\n",
    "A = Matrix([[1, 0], [0, 3]])\n",
    "b = Matrix([-1, 2])\n",
    "\n",
    "# Hàm số f(x) = 1/2 * x^T * A * x - b^T * x\n",
    "f = 1/2 * Matrix([x1, x2]).T * A * Matrix([x1, x2]) - b.T * Matrix([x1, x2])\n",
    "\n",
    "# Tính đạo hàm của f theo từng biến\n",
    "df_x1 = diff(f, x1)\n",
    "df_x2 = diff(f, x2)\n",
    "\n",
    "display(Markdown(f\"Đạo hàm : ${latex(df_x1)}$\"))\n",
    "display(Markdown(f\"Đạo hàm : ${latex(df_x2)}$\"))\n",
    "\n",
    "# Giải hệ phương trình đạo hàm bằng 0\n",
    "sol = solve([df_x1, df_x2], [x1, x2])\n",
    "sol"
   ]
  },
  {
   "cell_type": "markdown",
   "metadata": {},
   "source": [
    "1. Để tìm giá trị tối ưu $p^*$ của bài toán (1), ta cần tìm nghiệm của phương trình đạo hàm bậc nhất của hàm mục tiêu $f(x)$ bằng 0:\n",
    "\n",
    "$$\\begin{align}\n",
    "\\nabla f(x) = \\begin{bmatrix}\n",
    "\\frac{\\partial f}{\\partial x_1} \\\\\n",
    "\\frac{\\partial f}{\\partial x_2}\n",
    "\\end{bmatrix} = \\begin{bmatrix}\n",
    "x_1 \\\\\n",
    "x_2 + 2\n",
    "\\end{bmatrix} = \\mathbf{0}\n",
    "\\end{align}$$\n",
    "\n",
    "Từ đó, ta có $x_1 = 0$ và $x_2 = -2$. Vậy giá trị tối ưu $p^* = f(0, -2) = 2$.\n"
   ]
  },
  {
   "cell_type": "markdown",
   "metadata": {},
   "source": [
    "\n",
    "2. Sử dụng thuật toán Gradient Descent với learning rate được tính theo phương pháp exact line search, ta cần tính gradient của hàm mục tiêu tại điểm $x^{(k)}$ và điểm cập nhật $x^{(k+1)}$ được tính như sau:\n",
    "\n",
    "\\begin{align}\n",
    "x^{(k+1)} = x^{(k)} - s \\nabla f(x^{(k)})\n",
    "\\end{align}\n",
    "\n",
    "Trong đó, $t_k$ là learning rate. Để tính $t_k$ dựa trên exact line search, ta cần giải bài toán tối ưu 1 chiều sau:\n",
    "$$\\begin{align}\n",
    "t = \\arg\\min_{s}  f(x^{(k)} - s \\nabla f(x^{(k)}))\n",
    "\\end{align}$$\n",
    "\n"
   ]
  },
  {
   "cell_type": "code",
   "execution_count": 9,
   "metadata": {},
   "outputs": [
    {
     "data": {
      "text/latex": [
       "$\\displaystyle \\left[\\begin{matrix}- s \\left(1.0 x_{1} + 1\\right) + x_{1}\\\\- s \\left(3.0 x_{2} - 2\\right) + x_{2}\\end{matrix}\\right]$"
      ],
      "text/plain": [
       "Matrix([\n",
       "[-s*(1.0*x1 + 1) + x1],\n",
       "[-s*(3.0*x2 - 2) + x2]])"
      ]
     },
     "execution_count": 9,
     "metadata": {},
     "output_type": "execute_result"
    }
   ],
   "source": [
    "s = symbols('s')\n",
    "df_dx1 = diff(f,x1)\n",
    "df_dx2 = diff(f,x2)\n",
    "tk = Matrix([[x1],[x2]]) - s*Matrix([df_dx1, df_dx2])\n",
    "tk"
   ]
  },
  {
   "cell_type": "code",
   "execution_count": 10,
   "metadata": {},
   "outputs": [
    {
     "data": {
      "text/latex": [
       "$\\displaystyle \\left[\\begin{matrix}- s \\left(1.0 x_{1} + 1\\right) + 2 s \\left(3.0 x_{2} - 2\\right) + x_{1} - 2 x_{2} + 0.5 \\left(- s \\left(1.0 x_{1} + 1\\right) + x_{1}\\right)^{2} + 1.5 \\left(- s \\left(3.0 x_{2} - 2\\right) + x_{2}\\right)^{2}\\end{matrix}\\right]$"
      ],
      "text/plain": [
       "Matrix([[-s*(1.0*x1 + 1) + 2*s*(3.0*x2 - 2) + x1 - 2*x2 + 0.5*(-s*(1.0*x1 + 1) + x1)**2 + 1.5*(-s*(3.0*x2 - 2) + x2)**2]])"
      ]
     },
     "execution_count": 10,
     "metadata": {},
     "output_type": "execute_result"
    }
   ],
   "source": [
    "f.subs({x1: tk[0], x2:tk[1]})"
   ]
  },
  {
   "cell_type": "code",
   "execution_count": 11,
   "metadata": {},
   "outputs": [
    {
     "data": {
      "text/latex": [
       "$\\displaystyle \\left[\\begin{matrix}- 1.0 x_{1} + 6.0 x_{2} + 1.5 \\cdot \\left(4 - 6.0 x_{2}\\right) \\left(- s \\left(3.0 x_{2} - 2\\right) + x_{2}\\right) + 0.5 \\left(- 2.0 x_{1} - 2\\right) \\left(- s \\left(1.0 x_{1} + 1\\right) + x_{1}\\right) - 5\\end{matrix}\\right]$"
      ],
      "text/plain": [
       "Matrix([[-1.0*x1 + 6.0*x2 + 1.5*(4 - 6.0*x2)*(-s*(3.0*x2 - 2) + x2) + 0.5*(-2.0*x1 - 2)*(-s*(1.0*x1 + 1) + x1) - 5]])"
      ]
     },
     "execution_count": 11,
     "metadata": {},
     "output_type": "execute_result"
    }
   ],
   "source": [
    "diff(f.subs({x1: tk[0], x2:tk[1]}),s)#.subs({s:1})"
   ]
  },
  {
   "cell_type": "code",
   "execution_count": 12,
   "metadata": {},
   "outputs": [
    {
     "data": {
      "text/plain": [
       "[{s: (x1**2 + 2.0*x1 + 9.0*x2**2 - 12.0*x2 + 5.0)/(x1**2 + 2.0*x1 + 27.0*x2**2 - 36.0*x2 + 13.0)}]"
      ]
     },
     "execution_count": 12,
     "metadata": {},
     "output_type": "execute_result"
    }
   ],
   "source": [
    "solve(diff(f.subs({x1: tk[0], x2:tk[1]}),s))"
   ]
  },
  {
   "cell_type": "code",
   "execution_count": 13,
   "metadata": {},
   "outputs": [
    {
     "data": {
      "text/latex": [
       "$\\displaystyle \\frac{x_{1}^{2} + 2.0 x_{1} + 9.0 x_{2}^{2} - 12.0 x_{2} + 5.0}{x_{1}^{2} + 2.0 x_{1} + 27.0 x_{2}^{2} - 36.0 x_{2} + 13.0}$"
      ],
      "text/plain": [
       "(x1**2 + 2.0*x1 + 9.0*x2**2 - 12.0*x2 + 5.0)/(x1**2 + 2.0*x1 + 27.0*x2**2 - 36.0*x2 + 13.0)"
      ]
     },
     "execution_count": 13,
     "metadata": {},
     "output_type": "execute_result"
    }
   ],
   "source": [
    "nghiem_s = solve(diff(f.subs({x1: tk[0], x2:tk[1]}),s))\n",
    "nghiem_s[0][s]"
   ]
  },
  {
   "cell_type": "code",
   "execution_count": 14,
   "metadata": {},
   "outputs": [
    {
     "data": {
      "text/markdown": [
       "Điểm s để f(x-s.∇.f(x)) nhỏ nhất là : $\\frac{x_{1}^{2} + 2.0 x_{1} + 9.0 x_{2}^{2} - 12.0 x_{2} + 5.0}{x_{1}^{2} + 2.0 x_{1} + 27.0 x_{2}^{2} - 36.0 x_{2} + 13.0}$"
      ],
      "text/plain": [
       "<IPython.core.display.Markdown object>"
      ]
     },
     "metadata": {},
     "output_type": "display_data"
    }
   ],
   "source": [
    "nabla = '\\u2207'\n",
    "display(Markdown(f\"Điểm s để f(x-s.{nabla}.f(x)) nhỏ nhất là : ${latex(nghiem_s[0][s])}$\"))\n"
   ]
  },
  {
   "cell_type": "code",
   "execution_count": 9,
   "metadata": {},
   "outputs": [
    {
     "data": {
      "text/plain": [
       "0.16216216216216217"
      ]
     },
     "execution_count": 9,
     "metadata": {},
     "output_type": "execute_result"
    }
   ],
   "source": [
    "6000/37000"
   ]
  },
  {
   "cell_type": "code",
   "execution_count": 19,
   "metadata": {},
   "outputs": [
    {
     "data": {
      "text/latex": [
       "$\\displaystyle \\frac{x_{1}^{2} + 2.0 x_{1} + 9.0 x_{2}^{2} - 12.0 x_{2} + 5.0}{x_{1}^{2} + 2.0 x_{1} + 27.0 x_{2}^{2} - 36.0 x_{2} + 13.0}$"
      ],
      "text/plain": [
       "(x1**2 + 2.0*x1 + 9.0*x2**2 - 12.0*x2 + 5.0)/(x1**2 + 2.0*x1 + 27.0*x2**2 - 36.0*x2 + 13.0)"
      ]
     },
     "execution_count": 19,
     "metadata": {},
     "output_type": "execute_result"
    }
   ],
   "source": [
    "nghiem_s[0][s]"
   ]
  },
  {
   "cell_type": "code",
   "execution_count": 20,
   "metadata": {},
   "outputs": [
    {
     "data": {
      "text/latex": [
       "$\\displaystyle 0.5$"
      ],
      "text/plain": [
       "0.500000000000000"
      ]
     },
     "execution_count": 20,
     "metadata": {},
     "output_type": "execute_result"
    }
   ],
   "source": [
    "t = nghiem_s[0][s].subs({x1:1,x2:0})\n",
    "t "
   ]
  },
  {
   "cell_type": "code",
   "execution_count": 17,
   "metadata": {},
   "outputs": [
    {
     "name": "stdout",
     "output_type": "stream",
     "text": [
      "Matrix([[1], [0]])\n"
     ]
    },
    {
     "ename": "TypeError",
     "evalue": "float() argument must be a string or a number, not 'MutableDenseMatrix'",
     "output_type": "error",
     "traceback": [
      "\u001b[1;31m---------------------------------------------------------------------------\u001b[0m",
      "\u001b[1;31mTypeError\u001b[0m                                 Traceback (most recent call last)",
      "\u001b[1;32m~\\AppData\\Local\\Temp\\ipykernel_10328\\804997478.py\u001b[0m in \u001b[0;36m<module>\u001b[1;34m\u001b[0m\n\u001b[0;32m      5\u001b[0m \u001b[1;32mfor\u001b[0m \u001b[0mi\u001b[0m \u001b[1;32min\u001b[0m \u001b[0mrange\u001b[0m\u001b[1;33m(\u001b[0m\u001b[1;36m100\u001b[0m\u001b[1;33m)\u001b[0m\u001b[1;33m:\u001b[0m\u001b[1;33m\u001b[0m\u001b[1;33m\u001b[0m\u001b[0m\n\u001b[0;32m      6\u001b[0m     \u001b[0mx_new\u001b[0m \u001b[1;33m=\u001b[0m \u001b[0mx\u001b[0m \u001b[1;33m-\u001b[0m \u001b[0mt\u001b[0m\u001b[1;33m*\u001b[0m\u001b[1;33m(\u001b[0m\u001b[0mMatrix\u001b[0m\u001b[1;33m(\u001b[0m\u001b[1;33m[\u001b[0m\u001b[0mdf_dx1\u001b[0m\u001b[1;33m.\u001b[0m\u001b[0msubs\u001b[0m\u001b[1;33m(\u001b[0m\u001b[1;33m{\u001b[0m\u001b[0mx1\u001b[0m\u001b[1;33m:\u001b[0m\u001b[0mx\u001b[0m\u001b[1;33m[\u001b[0m\u001b[1;36m0\u001b[0m\u001b[1;33m]\u001b[0m\u001b[1;33m}\u001b[0m\u001b[1;33m)\u001b[0m\u001b[1;33m,\u001b[0m \u001b[0mdf_dx2\u001b[0m\u001b[1;33m.\u001b[0m\u001b[0msubs\u001b[0m\u001b[1;33m(\u001b[0m\u001b[1;33m{\u001b[0m\u001b[0mx2\u001b[0m\u001b[1;33m:\u001b[0m\u001b[0mx\u001b[0m\u001b[1;33m[\u001b[0m\u001b[1;36m1\u001b[0m\u001b[1;33m]\u001b[0m\u001b[1;33m}\u001b[0m\u001b[1;33m)\u001b[0m\u001b[1;33m]\u001b[0m\u001b[1;33m)\u001b[0m\u001b[1;33m)\u001b[0m\u001b[1;33m\u001b[0m\u001b[1;33m\u001b[0m\u001b[0m\n\u001b[1;32m----> 7\u001b[1;33m     \u001b[0mdk\u001b[0m  \u001b[1;33m=\u001b[0m \u001b[0mnp\u001b[0m\u001b[1;33m.\u001b[0m\u001b[0marray\u001b[0m\u001b[1;33m(\u001b[0m\u001b[1;33m[\u001b[0m\u001b[1;33m[\u001b[0m\u001b[0mfloat\u001b[0m\u001b[1;33m(\u001b[0m\u001b[0mdf_dx1\u001b[0m\u001b[1;33m.\u001b[0m\u001b[0msubs\u001b[0m\u001b[1;33m(\u001b[0m\u001b[1;33m{\u001b[0m\u001b[0mx1\u001b[0m\u001b[1;33m:\u001b[0m\u001b[0mx\u001b[0m\u001b[1;33m[\u001b[0m\u001b[1;36m0\u001b[0m\u001b[1;33m]\u001b[0m\u001b[1;33m}\u001b[0m\u001b[1;33m)\u001b[0m\u001b[1;33m)\u001b[0m\u001b[1;33m]\u001b[0m\u001b[1;33m,\u001b[0m\u001b[1;33m[\u001b[0m\u001b[0mfloat\u001b[0m\u001b[1;33m(\u001b[0m \u001b[0mdf_dx2\u001b[0m\u001b[1;33m.\u001b[0m\u001b[0msubs\u001b[0m\u001b[1;33m(\u001b[0m\u001b[1;33m{\u001b[0m\u001b[0mx2\u001b[0m\u001b[1;33m:\u001b[0m\u001b[0mx\u001b[0m\u001b[1;33m[\u001b[0m\u001b[1;36m1\u001b[0m\u001b[1;33m]\u001b[0m\u001b[1;33m}\u001b[0m\u001b[1;33m)\u001b[0m\u001b[1;33m)\u001b[0m\u001b[1;33m]\u001b[0m\u001b[1;33m]\u001b[0m\u001b[1;33m)\u001b[0m \u001b[1;31m#gradient tại x hiện tại\u001b[0m\u001b[1;33m\u001b[0m\u001b[1;33m\u001b[0m\u001b[0m\n\u001b[0m\u001b[0;32m      8\u001b[0m     \u001b[1;32mif\u001b[0m \u001b[0mabs\u001b[0m\u001b[1;33m(\u001b[0m\u001b[0mnp\u001b[0m\u001b[1;33m.\u001b[0m\u001b[0mlinalg\u001b[0m\u001b[1;33m.\u001b[0m\u001b[0mnorm\u001b[0m\u001b[1;33m(\u001b[0m\u001b[0mdk\u001b[0m\u001b[1;33m)\u001b[0m\u001b[1;33m)\u001b[0m \u001b[1;33m<\u001b[0m \u001b[1;36m1e-5\u001b[0m\u001b[1;33m:\u001b[0m\u001b[1;33m\u001b[0m\u001b[1;33m\u001b[0m\u001b[0m\n\u001b[0;32m      9\u001b[0m         \u001b[0mprint\u001b[0m\u001b[1;33m(\u001b[0m\u001b[1;34m'Điểm cực tiểu là x1 = %f, x2 = %f, giá trị hàm muc tieu %f, sau %d vòng lặp'\u001b[0m\u001b[1;33m%\u001b[0m\u001b[1;33m(\u001b[0m\u001b[0mx_new\u001b[0m\u001b[1;33m[\u001b[0m\u001b[1;36m0\u001b[0m\u001b[1;33m]\u001b[0m\u001b[1;33m,\u001b[0m \u001b[0mx_new\u001b[0m\u001b[1;33m[\u001b[0m\u001b[1;36m1\u001b[0m\u001b[1;33m]\u001b[0m\u001b[1;33m,\u001b[0m \u001b[0mf\u001b[0m\u001b[1;33m.\u001b[0m\u001b[0msubs\u001b[0m\u001b[1;33m(\u001b[0m\u001b[1;33m{\u001b[0m\u001b[0mx1\u001b[0m\u001b[1;33m:\u001b[0m \u001b[0mx_new\u001b[0m\u001b[1;33m[\u001b[0m\u001b[1;36m0\u001b[0m\u001b[1;33m]\u001b[0m\u001b[1;33m,\u001b[0m \u001b[0mx2\u001b[0m\u001b[1;33m:\u001b[0m\u001b[0mx_new\u001b[0m\u001b[1;33m[\u001b[0m\u001b[1;36m1\u001b[0m\u001b[1;33m]\u001b[0m\u001b[1;33m}\u001b[0m\u001b[1;33m)\u001b[0m\u001b[1;33m,\u001b[0m \u001b[0mi\u001b[0m\u001b[1;33m)\u001b[0m\u001b[1;33m)\u001b[0m\u001b[1;33m\u001b[0m\u001b[1;33m\u001b[0m\u001b[0m\n",
      "\u001b[1;31mTypeError\u001b[0m: float() argument must be a string or a number, not 'MutableDenseMatrix'"
     ]
    }
   ],
   "source": [
    "x0 = Matrix([[1],[0]])\n",
    "x=Matrix([x1,x2])\n",
    "x = x.subs({x1:1,x2:0})\n",
    "print(x)\n",
    "for i in range(100):\n",
    "    x_new = x - t*(Matrix([df_dx1.subs({x1:x[0]}), df_dx2.subs({x2:x[1]})]))\n",
    "    dk  = np.array([[float(df_dx1.subs({x1:x[0]}))],[float( df_dx2.subs({x2:x[1]}))]]) #gradient tại x hiện tại\n",
    "    if abs(np.linalg.norm(dk)) < 1e-5:\n",
    "        print('Điểm cực tiểu là x1 = %f, x2 = %f, giá trị hàm muc tieu %f, sau %d vòng lặp'%(x_new[0], x_new[1], f.subs({x1: x_new[0], x2:x_new[1]}), i))\n",
    "        break\n",
    "    x=x_new"
   ]
  },
  {
   "cell_type": "code",
   "execution_count": 8,
   "metadata": {},
   "outputs": [
    {
     "data": {
      "text/latex": [
       "$\\displaystyle \\left[\\begin{matrix}4.63564004519695 \\cdot 10^{-6}\\\\-2.99998609307986\\end{matrix}\\right]$"
      ],
      "text/plain": [
       "Matrix([\n",
       "[4.63564004519695e-6],\n",
       "[  -2.99998609307986]])"
      ]
     },
     "execution_count": 8,
     "metadata": {},
     "output_type": "execute_result"
    }
   ],
   "source": [
    "def xk(f,n,t) :\n",
    "    if n==0 : \n",
    "        return x.subs({x1:1,x2:0})\n",
    "    return xk(f,n-1,t)+t*Matrix([df_dx1.subs({x1:xk(f,n-1,t)[0]}), df_dx2.subs({x2:xk(f,n-1,t)[1]})])\n",
    "nk = symbols('nk')\n",
    "xk(f,1,1)"
   ]
  },
  {
   "cell_type": "markdown",
   "metadata": {},
   "source": [
    "$$\\displaystyle \\begin{align*}\n",
    "x^{(k)} &=x^{(k-1)} - t . \\nabla f_{x^{(k-1)}}\\\\\n",
    "&=x^{(k-1)} - \\frac{1}{\\delta + 1}(2x_1^{(k-1)},2.\\delta.x_2^{(k-1)}) \\\\\n",
    "&=(x_1^{(k-1)},x_2^{(k-1)}) - (\\frac{2}{\\delta+1}x_1^{(k-1)},\\frac{2\\delta}{\\delta+1}x_2^{(k-1)}) \\\\\n",
    "&= (\\frac{\\delta-1}{\\delta+1}x_1^{(k-1)},\\frac{1-\\delta}{\\delta+1}x_2^{(k-1)}) \\\\ \n",
    "\\end{align*}$$\n",
    "\n",
    "\n",
    "\n",
    "$$\\displaystyle \\begin{align*}\n",
    "x_1^{(k)} = \\frac{\\delta-1}{\\delta+1}x_1^{(k-1)} = \\frac{\\delta-1}{\\delta+1}. \\frac{\\delta-1}{\\delta+1} x_1^{(k-2)} = \\dots = (\\frac{\\delta-1}{\\delta+1})^k . x_1^{(0)} = (\\frac{\\delta-1}{\\delta+1})^k . \\delta \n",
    "\n",
    "\\end{align*}$$\n",
    "\n",
    "$$\\displaystyle \\begin{align*}\n",
    "x_2^{(k)} = \\frac{1-\\delta}{\\delta+1}x_2^{(k-1)} = \\dots = (\\frac{1-\\delta}{\\delta+1})^k . x_2^{(0)} = (\\frac{\\delta-1}{\\delta+1})^k \n",
    "\\end{align*}$$\n",
    "\n",
    "Vậy $$\\displaystyle x^{(k)} = \\left((\\frac{\\delta-1}{\\delta+1})^k.\\delta \\quad,\\quad (\\frac{\\delta-1}{\\delta+1})^k \\right)$$"
   ]
  },
  {
   "cell_type": "markdown",
   "metadata": {},
   "source": [
    "\n",
    "3. Để vẽ đồ thị biểu thị cho sai số $\\text{err}_k = |f(x^{(k)}) - p^*|$, ta sẽ tính giá trị của hàm mục tiêu tại mỗi điểm $x^{(k)}$ và tính sai số tương ứng. Sau đó, vẽ đồ thị của sai số theo số lần lặp.\n",
    "\n",
    "Sai số được tính bằng:\n",
    "\n",
    "\\begin{align}\n",
    "\\text{err}_k = |f(x^{(k)}) - p^*| = |f(x^{(k)}) - 2|\n",
    "\\end{align}\n",
    "\n",
    "Vẽ đồ thị sai số $\\text{err}_k$ theo số lần lặp $k$. Kết quả sẽ cho thấy cách sai số giảm dần khi thuật toán Gradient Descent tiến gần tới giá trị tối ưu $p^* = 2$."
   ]
  },
  {
   "cell_type": "code",
   "execution_count": 5,
   "metadata": {},
   "outputs": [],
   "source": [
    "\n",
    "from sympy import symbols, diff , Matrix ,solve,latex\n",
    "import numpy as np\n",
    "from IPython.display import display, Markdown\n",
    "# Định nghĩa biến ký hiệu vector\n",
    "x1,x2 = symbols('x1 x2')  # Tạo một vector x gồm 2  thành phần x1, x2 \n",
    "x = symbols('x')\n",
    "x = [x1,x2]\n",
    "# Định nghĩa hàm số dựa trên vector x (ví dụ: f = x1^2 + x2^2 )\n",
    "f = 1/2*x1**2 + 1/2*x2**2 + 2*x2 \n",
    "\n",
    "# Tính gradient của hàm số f đối với vector x\n",
    "gradient_fx = Matrix([diff(f, xi) for xi in x])\n"
   ]
  },
  {
   "cell_type": "code",
   "execution_count": 11,
   "metadata": {},
   "outputs": [
    {
     "data": {
      "image/png": "[encoded data removed]",
      "text/plain": [
       "<Figure size 640x480 with 1 Axes>"
      ]
     },
     "metadata": {},
     "output_type": "display_data"
    }
   ],
   "source": [
    "import matplotlib.pyplot as plt\n",
    "\n",
    "# Define the objective function and optimal value\n",
    "p_star = -2\n",
    "\n",
    "# Initialize starting point and other parameters for gradient descent\n",
    "x1_k, x2_k = 1 , 0  # Initial values\n",
    "learning_rate = 0.05\n",
    "num_iterations = 100\n",
    "err_k_values = []\n",
    "\n",
    "# Perform gradient descent iterations\n",
    "for k in range(num_iterations):\n",
    "    gradient = [diff(f, xi).subs({x1: x1_k, x2: x2_k}) for xi in x]\n",
    "    x1_k -= learning_rate * gradient[0]\n",
    "    x2_k -= learning_rate * gradient[1]\n",
    "    \n",
    "    # Calculate and store the error at each iteration\n",
    "    err_k = abs(f.subs({x1: x1_k, x2: x2_k}) - p_star)\n",
    "    err_k_values.append(err_k)\n",
    "\n",
    "# Plot the error vs. iterations\n",
    "plt.plot(range(num_iterations), err_k_values)\n",
    "plt.xlabel('Iteration')\n",
    "plt.ylabel('Error (|f(x^{(k)}) - p*|)')\n",
    "plt.title('Error vs. Iterations')\n",
    "plt.show()\n"
   ]
  },
  {
   "cell_type": "code",
   "execution_count": 80,
   "metadata": {},
   "outputs": [
    {
     "name": "stdout",
     "output_type": "stream",
     "text": [
      "Giá trị tối thiểu của s: 0.9999999925459968\n",
      "Giá trị tối thiểu của hàm số: -1.999999999999775\n"
     ]
    }
   ],
   "source": [
    "from scipy.optimize import minimize\n",
    "\n",
    "# Định nghĩa hàm số của bạn\n",
    "def objective_function(s):\n",
    "    x1 = 2  # Thay thế giá trị cụ thể của x1 tại đây\n",
    "    x2 = 88   # Thay thế giá trị cụ thể của x2 tại đây\n",
    "    f = -2 * s * (1.0 * x2 + 2) + 2 * x2 + 0.5 * (-1.0 * s * x1 + x1)**2 + 0.5 * (-s * (1.0 * x2 + 2) + x2)**2\n",
    "    return f\n",
    "\n",
    "# Tìm giá trị tối thiểu\n",
    "initial_guess = 0  # Giá trị ban đầu của s\n",
    "result = minimize(objective_function, initial_guess)\n",
    "\n",
    "# Kết quả\n",
    "minimum_s = result.x[0]\n",
    "minimum_f = result.fun\n",
    "print(f\"Giá trị tối thiểu của s: {minimum_s}\")\n",
    "print(f\"Giá trị tối thiểu của hàm số: {minimum_f}\")\n"
   ]
  }
 ],
 "metadata": {
  "kernelspec": {
   "display_name": "Python 3 (ipykernel)",
   "language": "python",
   "name": "python3"
  },
  "language_info": {
   "codemirror_mode": {
    "name": "ipython",
    "version": 3
   },
   "file_extension": ".py",
   "mimetype": "text/x-python",
   "name": "python",
   "nbconvert_exporter": "python",
   "pygments_lexer": "ipython3",
   "version": "3.9.13"
  }
 },
 "nbformat": 4,
 "nbformat_minor": 2
}
