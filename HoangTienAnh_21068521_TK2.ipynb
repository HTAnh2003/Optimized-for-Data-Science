{
 "cells": [
  {
   "cell_type": "markdown",
   "metadata": {},
   "source": [
    "Họ tên : Hoàng Tiến Anh \n",
    "\n",
    "MSSV : 21068521"
   ]
  },
  {
   "cell_type": "markdown",
   "metadata": {
    "id": "GsccfSDERjBo"
   },
   "source": [
    "# ĐỀ KIỂM TRA THỰC HÀNH 2 \n",
    "## Môn: Tối ưu hoá cho Khoa học dữ liệu\n",
    "## Ngày: 18/11/2023\n",
    "## Lớp: DHKHDL17A. Thời gian: 45 phút"
   ]
  },
  {
   "cell_type": "markdown",
   "metadata": {
    "id": "dLqKbo8CeQy1"
   },
   "source": [
    "Cho ma trận $A=\\begin{bmatrix}1 & 0\\\\ 0 & 3 \\end{bmatrix}$ và vector $b=(-1;2)$. Xét bài toán tối ưu sau \n",
    "$$\\min_{x\\in\\mathbb{R}^2}f(x)=\\dfrac{1}{2}x^TAx-b^Tx.$$"
   ]
  },
  {
   "cell_type": "markdown",
   "metadata": {},
   "source": []
  },
  {
   "cell_type": "markdown",
   "metadata": {
    "id": "W00lHNXQfg15"
   },
   "source": [
    "1. (4 điểm) Xác định điểm tối ưu $x^*$ và giá trị tối ưu $p^*$ của bài toán trên.\n",
    "\n",
    "\n",
    "2. (4 điểm) Sử dụng thuật toán Gradient Descent, với giá trị $x$ ban đầu là $x^{(0)}=(1;0)$, sử dụng learning rate là $1$ và thực hiện tối đa $20$ vòng lặp. In ra giá trị của $x^{(k)}$ và $f(x^{(k)})$ tương ứng sau mỗi vòng lặp $k$. Từ đó vẽ đồ thị biểu thị cho sai số $|f(x^{(k)})-f(p^*)|$.\n",
    "\n",
    "\n",
    "3. (2 điểm) Tìm learning rate theo phương pháp exact-line search trong thuật toán Gradient Descent của bài toán trên với điểm khởi tạo là $x^{(0)}=(1;0)$. Gọi điểm cập nhật trong trường hợp này là $x^{(k)}_{\\text{exact}}$, vẽ đồ thị mô tả cho sai số $|f(x^{(k)}_{\\text{exact}})-f(p^*)|$.  \n"
   ]
  },
  {
   "cell_type": "markdown",
   "metadata": {},
   "source": [
    "$ \\nabla f(x)=\\dfrac{1}{2}x^TAx-b^Tx = Ax - b $  ( theo phương trình hàm toàn phương )\n",
    "\n",
    "Để tìm điểm tối ưu $x^*$ và giá trị tối ưu $p^*$ thì ta cần tính $Ax-b = 0 $"
   ]
  },
  {
   "cell_type": "code",
   "execution_count": 10,
   "metadata": {},
   "outputs": [
    {
     "data": {
      "text/plain": [
       "(array([-1.        ,  0.66666667]), -1.1666666666666665)"
      ]
     },
     "execution_count": 10,
     "metadata": {},
     "output_type": "execute_result"
    }
   ],
   "source": [
    "A = np.array([[1,0],[0,3]])\n",
    "b = np.array([-1,2])\n",
    "\n",
    "x = np.linalg.solve(A,b)\n",
    "f_star = 1/2*x.T@A@x-b.T@x\n",
    "x,f_star"
   ]
  },
  {
   "cell_type": "code",
   "execution_count": null,
   "metadata": {},
   "outputs": [],
   "source": []
  },
  {
   "cell_type": "markdown",
   "metadata": {},
   "source": []
  },
  {
   "cell_type": "markdown",
   "metadata": {},
   "source": [
    "Vậy điểm tối ưu của bài toán : $\\displaystyle x^* = (-1,\\frac{2}{3})$ , giá trị tối ưu của bài toán là $p^* = \\frac{-7}{6}$"
   ]
  },
  {
   "cell_type": "code",
   "execution_count": 11,
   "metadata": {},
   "outputs": [
    {
     "name": "stdout",
     "output_type": "stream",
     "text": [
      "iter 1 x= [-1  2]   ,  f(x)= 1.5\n",
      "iter 2 x= [-1 -2]   ,  f(x)= 9.5\n",
      "iter 3 x= [-1  6]   ,  f(x)= 41.5\n",
      "iter 4 x= [ -1 -10]   ,  f(x)= 169.5\n",
      "iter 5 x= [-1 22]   ,  f(x)= 681.5\n",
      "iter 6 x= [ -1 -42]   ,  f(x)= 2729.5\n",
      "iter 7 x= [-1 86]   ,  f(x)= 10921.5\n",
      "iter 8 x= [  -1 -170]   ,  f(x)= 43689.5\n",
      "iter 9 x= [ -1 342]   ,  f(x)= 174761.5\n",
      "iter 10 x= [  -1 -682]   ,  f(x)= 699049.5\n",
      "iter 11 x= [  -1 1366]   ,  f(x)= 2796201.5\n",
      "iter 12 x= [   -1 -2730]   ,  f(x)= 11184809.5\n",
      "iter 13 x= [  -1 5462]   ,  f(x)= 44739241.5\n",
      "iter 14 x= [    -1 -10922]   ,  f(x)= 178956969.5\n",
      "iter 15 x= [   -1 21846]   ,  f(x)= 715827881.5\n",
      "iter 16 x= [    -1 -43690]   ,  f(x)= 2863311529.5\n",
      "iter 17 x= [   -1 87382]   ,  f(x)= 11453246121.5\n",
      "iter 18 x= [     -1 -174762]   ,  f(x)= 45812984489.5\n",
      "iter 19 x= [    -1 349526]   ,  f(x)= 183251937961.5\n",
      "iter 20 x= [     -1 -699050]   ,  f(x)= 733007751849.5\n",
      "[     -1 -699050]\n"
     ]
    },
    {
     "data": {
      "image/png": "[encoded data removed]",
      "text/plain": [
       "<Figure size 640x480 with 1 Axes>"
      ]
     },
     "metadata": {},
     "output_type": "display_data"
    }
   ],
   "source": [
    "import numpy as np\n",
    "A = np.array([[1, 0], [0, 3]])\n",
    "b = np.array([-1, 2])\n",
    "f_star = -7/6\n",
    "def f(x):\n",
    "    return 1/2*x.T@A@x-b.T@x\n",
    "\n",
    "def grad(x):\n",
    "    return A@x-b\n",
    "\n",
    "def gd(x,lr,max_iter):\n",
    "    for i in range(max_iter):\n",
    "        x = x-lr*grad(x)\n",
    "        list_x.append(x)\n",
    "        print('iter',i+1,'x=',x,'  ,  f(x)=',f(x))\n",
    "        if np.linalg.norm(grad(x))<1e-3:\n",
    "            break\n",
    "    return x\n",
    "\n",
    "#Khởi tạo vector x\n",
    "x = np.array([1,0])\n",
    "iter = 20\n",
    "lr = 1\n",
    "list_x = []\n",
    "x = gd(x,lr,iter)\n",
    "print(x)\n",
    "#Vẽ đồ thị biểu thị cho sai số |f(x^(k))-f(p*)|\n",
    "import matplotlib.pyplot as plt\n",
    "x = range(len(list_x))\n",
    "plt.plot(x,[abs(f(i)-f_star) for i in list_x])\n",
    "plt.xlabel('iter')\n",
    "plt.ylabel('error')\n",
    "plt.title('Đồ thị biểu thị cho sai số |f(x^(k))-f(p*)|')\n",
    "plt.show()\n",
    "\n"
   ]
  },
  {
   "cell_type": "markdown",
   "metadata": {},
   "source": [
    "3. (2 điểm) Tìm learning rate theo phương pháp exact-line search trong thuật toán Gradient Descent của bài toán trên với điểm khởi tạo là $x^{(0)}=(1;0)$. Gọi điểm cập nhật trong trường hợp này là $x^{(k)}_{\\text{exact}}$, vẽ đồ thị mô tả cho sai số $|f(x^{(k)}_{\\text{exact}})-f(p^*)|$.  \n"
   ]
  },
  {
   "cell_type": "markdown",
   "metadata": {},
   "source": [
    "Công thức cho điểm cập nhật $x^{(k)}$ như sau : \n",
    "\n",
    "\\begin{align}\n",
    "x^{(k)} = x^{(k-1)} - t \\nabla f(x^{(k-1)})\n",
    "\\end{align}\n",
    "\n",
    "Trong đó, $t_k$ là learning rate. Để tính $t_k$ dựa trên exact line search, ta cần giải bài toán tối ưu 1 chiều sau:\n",
    "$$\\begin{align}\n",
    "t = \\arg\\min_{s}  f(x^{(k)} - s \\nabla f(x^{(k)}))\\\\\n",
    "t = \\arg\\min_{s}  f(x^{(k)} - s * (Ax-b))\n",
    "\\end{align}$$\n",
    "\n"
   ]
  },
  {
   "cell_type": "markdown",
   "metadata": {},
   "source": [
    "$$\\displaystyle \\begin{align*}\n",
    "x^{(k)} &=x^{(k-1)} - t . \\nabla f_{x^{(k-1)}}\\\\\n",
    "&=(x_1^{(k-1)},x_2^{(k-1)}) - \\frac{1}{3}(x_1^{(k-1)},x_2^{(k-1)}+3) \\\\\n",
    "&= (\\frac{2}{3}x_1^{(k-1)},\\frac{2}{3}x_2^{(k-1)}-1) \\\\ \n",
    "\\end{align*}$$\n",
    "\n",
    "\n",
    "\n",
    "$$\\displaystyle \\begin{align*}\n",
    "x_1^{(k)} = \\frac{2}{3}x_1^{(k-1)} = (\\frac{2}{3})^2x_1^{(k-2)} = \\dots = (\\frac{2}{3})^k x_1^{(0)} = (\\frac{2}{3})^k\n",
    "\n",
    "\\end{align*}$$\n",
    "\n",
    "$$\\displaystyle \\begin{align*}\n",
    "x_2^{(k)} = \\frac{2}{3}x_2^{(k-1)}-1 = (\\frac{2}{3})^2x_2^{(k-2)}-1 = \\dots = (\\frac{2}{3})^k x_2^{(0)} -1= -1\n",
    "\\end{align*}$$\n",
    "\n",
    "Vậy $$\\displaystyle x^{(k)} = \\left((\\frac{2}{3})^k, -1 \\right)$$"
   ]
  },
  {
   "cell_type": "code",
   "execution_count": 19,
   "metadata": {},
   "outputs": [
    {
     "data": {
      "text/markdown": [
       "Đạo hàm : $\\left[\\begin{matrix}1.0 x_{1} + 1\\end{matrix}\\right]$"
      ],
      "text/plain": [
       "<IPython.core.display.Markdown object>"
      ]
     },
     "metadata": {},
     "output_type": "display_data"
    },
    {
     "data": {
      "text/markdown": [
       "Đạo hàm : $\\left[\\begin{matrix}3.0 x_{2} - 2\\end{matrix}\\right]$"
      ],
      "text/plain": [
       "<IPython.core.display.Markdown object>"
      ]
     },
     "metadata": {},
     "output_type": "display_data"
    },
    {
     "data": {
      "text/plain": [
       "({x1: -1.00000000000000, x2: 0.666666666666667}, Matrix([[-1.16666666666667]]))"
      ]
     },
     "execution_count": 19,
     "metadata": {},
     "output_type": "execute_result"
    }
   ],
   "source": [
    "from sympy import symbols, diff, Matrix, solve, latex\n",
    "from IPython.display import display, Markdown\n",
    "# Khai báo các biến\n",
    "x1, x2 = symbols('x1 x2')\n",
    "\n",
    "# Ma trận A và vector b\n",
    "A = Matrix([[1, 0], [0, 3]])\n",
    "b = Matrix([-1, 2])\n",
    "\n",
    "# Hàm số f(x) = 1/2 * x^T * A * x - b^T * x\n",
    "f = 1/2 * Matrix([x1, x2]).T * A * Matrix([x1, x2]) - b.T * Matrix([x1, x2])\n",
    "\n",
    "# Tính đạo hàm của f theo từng biến\n",
    "df_x1 = diff(f, x1)\n",
    "df_x2 = diff(f, x2)\n",
    "\n",
    "display(Markdown(f\"Đạo hàm : ${latex(df_x1)}$\"))\n",
    "display(Markdown(f\"Đạo hàm : ${latex(df_x2)}$\"))\n",
    "\n",
    "# Giải hệ phương trình đạo hàm bằng 0\n",
    "sol = solve([df_x1, df_x2], [x1, x2])\n",
    "sol, f.subs({x1: sol[x1], x2: sol[x2]})"
   ]
  },
  {
   "cell_type": "code",
   "execution_count": 18,
   "metadata": {},
   "outputs": [
    {
     "data": {
      "text/latex": [
       "$\\displaystyle \\left[\\begin{matrix}- s \\left(1.0 x_{1} + 1\\right) + x_{1}\\\\- s \\left(3.0 x_{2} - 2\\right) + x_{2}\\end{matrix}\\right]$"
      ],
      "text/plain": [
       "Matrix([\n",
       "[-s*(1.0*x1 + 1) + x1],\n",
       "[-s*(3.0*x2 - 2) + x2]])"
      ]
     },
     "execution_count": 18,
     "metadata": {},
     "output_type": "execute_result"
    }
   ],
   "source": [
    "s = symbols('s')\n",
    "tk = Matrix([[x1],[x2]]) - s*Matrix([df_x1, df_x2])\n",
    "tk"
   ]
  },
  {
   "cell_type": "code",
   "execution_count": 17,
   "metadata": {},
   "outputs": [
    {
     "data": {
      "text/plain": [
       "{s: (x1**2 + 2.0*x1 + 9.0*x2**2 - 12.0*x2 + 5.0)/(x1**2 + 2.0*x1 + 27.0*x2**2 - 36.0*x2 + 13.0)}"
      ]
     },
     "execution_count": 17,
     "metadata": {},
     "output_type": "execute_result"
    }
   ],
   "source": [
    "nghiem_s = solve(diff(f.subs({x1: tk[0], x2:tk[1]}),s))\n",
    "nghiem_s[0]"
   ]
  },
  {
   "cell_type": "code",
   "execution_count": 16,
   "metadata": {},
   "outputs": [
    {
     "data": {
      "text/markdown": [
       " Điểm s để f(x-s.∇.f(x)) nhỏ nhất là : $\\displaystyle \\frac{x_{1}^{2} + 2.0 x_{1} + 9.0 x_{2}^{2} - 12.0 x_{2} + 5.0}{x_{1}^{2} + 2.0 x_{1} + 27.0 x_{2}^{2} - 36.0 x_{2} + 13.0}$"
      ],
      "text/plain": [
       "<IPython.core.display.Markdown object>"
      ]
     },
     "metadata": {},
     "output_type": "display_data"
    }
   ],
   "source": [
    "nabla = '\\u2207'\n",
    "display(Markdown(f\" Điểm s để f(x-s.{nabla}.f(x)) nhỏ nhất là : $\\displaystyle {latex(nghiem_s[0][s])}$\"))\n"
   ]
  },
  {
   "cell_type": "code",
   "execution_count": 14,
   "metadata": {},
   "outputs": [
    {
     "data": {
      "text/latex": [
       "$\\displaystyle 0.5$"
      ],
      "text/plain": [
       "0.500000000000000"
      ]
     },
     "execution_count": 14,
     "metadata": {},
     "output_type": "execute_result"
    }
   ],
   "source": [
    "nghiem_s[0][s].subs({x1 : 1 , x2: 0})"
   ]
  },
  {
   "cell_type": "code",
   "execution_count": 20,
   "metadata": {},
   "outputs": [
    {
     "data": {
      "text/latex": [
       "$\\displaystyle \\left[\\begin{matrix}x_{1} - 2 x_{2} - \\frac{\\left(1.0 x_{1} + 1\\right) \\left(x_{1}^{2} + 2.0 x_{1} + 9.0 x_{2}^{2} - 12.0 x_{2} + 5.0\\right)}{x_{1}^{2} + 2.0 x_{1} + 27.0 x_{2}^{2} - 36.0 x_{2} + 13.0} + 0.5 \\left(x_{1} - \\frac{\\left(1.0 x_{1} + 1\\right) \\left(x_{1}^{2} + 2.0 x_{1} + 9.0 x_{2}^{2} - 12.0 x_{2} + 5.0\\right)}{x_{1}^{2} + 2.0 x_{1} + 27.0 x_{2}^{2} - 36.0 x_{2} + 13.0}\\right)^{2} + 1.5 \\left(x_{2} - \\frac{\\left(3.0 x_{2} - 2\\right) \\left(x_{1}^{2} + 2.0 x_{1} + 9.0 x_{2}^{2} - 12.0 x_{2} + 5.0\\right)}{x_{1}^{2} + 2.0 x_{1} + 27.0 x_{2}^{2} - 36.0 x_{2} + 13.0}\\right)^{2} + \\frac{2 \\cdot \\left(3.0 x_{2} - 2\\right) \\left(x_{1}^{2} + 2.0 x_{1} + 9.0 x_{2}^{2} - 12.0 x_{2} + 5.0\\right)}{x_{1}^{2} + 2.0 x_{1} + 27.0 x_{2}^{2} - 36.0 x_{2} + 13.0}\\end{matrix}\\right]$"
      ],
      "text/plain": [
       "Matrix([[x1 - 2*x2 - (1.0*x1 + 1)*(x1**2 + 2.0*x1 + 9.0*x2**2 - 12.0*x2 + 5.0)/(x1**2 + 2.0*x1 + 27.0*x2**2 - 36.0*x2 + 13.0) + 0.5*(x1 - (1.0*x1 + 1)*(x1**2 + 2.0*x1 + 9.0*x2**2 - 12.0*x2 + 5.0)/(x1**2 + 2.0*x1 + 27.0*x2**2 - 36.0*x2 + 13.0))**2 + 1.5*(x2 - (3.0*x2 - 2)*(x1**2 + 2.0*x1 + 9.0*x2**2 - 12.0*x2 + 5.0)/(x1**2 + 2.0*x1 + 27.0*x2**2 - 36.0*x2 + 13.0))**2 + 2*(3.0*x2 - 2)*(x1**2 + 2.0*x1 + 9.0*x2**2 - 12.0*x2 + 5.0)/(x1**2 + 2.0*x1 + 27.0*x2**2 - 36.0*x2 + 13.0)]])"
      ]
     },
     "execution_count": 20,
     "metadata": {},
     "output_type": "execute_result"
    }
   ],
   "source": [
    "(f.subs({x1: tk[0], x2:tk[1]})).subs(*nghiem_s)"
   ]
  },
  {
   "cell_type": "code",
   "execution_count": 21,
   "metadata": {},
   "outputs": [
    {
     "data": {
      "text/latex": [
       "$\\displaystyle 0.5$"
      ],
      "text/plain": [
       "0.500000000000000"
      ]
     },
     "execution_count": 21,
     "metadata": {},
     "output_type": "execute_result"
    }
   ],
   "source": [
    "t = nghiem_s[0][s].subs({x1:1,x2:0})\n",
    "t"
   ]
  },
  {
   "cell_type": "markdown",
   "metadata": {},
   "source": [
    "$$\\begin{align}\n",
    "\n",
    "\\end{align}$$"
   ]
  },
  {
   "cell_type": "markdown",
   "metadata": {},
   "source": [
    "## --------------------------------------- Hết --------------------------------------"
   ]
  },
  {
   "cell_type": "markdown",
   "metadata": {},
   "source": [
    "### Lưu ý: sinh viên không được sử dụng internet. Giám thị không giải thích gì thêm."
   ]
  }
 ],
 "metadata": {
  "colab": {
   "provenance": []
  },
  "kernelspec": {
   "display_name": "Python 3 (ipykernel)",
   "language": "python",
   "name": "python3"
  },
  "language_info": {
   "codemirror_mode": {
    "name": "ipython",
    "version": 3
   },
   "file_extension": ".py",
   "mimetype": "text/x-python",
   "name": "python",
   "nbconvert_exporter": "python",
   "pygments_lexer": "ipython3",
   "version": "3.9.13"
  }
 },
 "nbformat": 4,
 "nbformat_minor": 1
}
